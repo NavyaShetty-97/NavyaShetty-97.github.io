{
  "nbformat": 4,
  "nbformat_minor": 0,
  "metadata": {
    "colab": {
      "provenance": [],
      "authorship_tag": "ABX9TyMWlQuUbpzHxU4LFC7tkhp9",
      "include_colab_link": true
    },
    "kernelspec": {
      "name": "python3",
      "display_name": "Python 3"
    },
    "language_info": {
      "name": "python"
    }
  },
  "cells": [
    {
      "cell_type": "markdown",
      "metadata": {
        "id": "view-in-github",
        "colab_type": "text"
      },
      "source": [
        "<a href=\"https://colab.research.google.com/github/NavyaShetty-97/NavyaShetty-97.github.io/blob/master/PythonCode_Navyashree.ipynb\" target=\"_parent\"><img src=\"https://colab.research.google.com/assets/colab-badge.svg\" alt=\"Open In Colab\"/></a>"
      ]
    },
    {
      "cell_type": "markdown",
      "source": [
        "# Homework-1\n",
        "### Course: INSY 5336 004 - Python Programming (Spring 2023)\n",
        "### Name: Navyashree Vishwanath Shetty\n",
        "### UTA ID: 1001968039"
      ],
      "metadata": {
        "id": "0PAgqXRUO2Kr"
      }
    },
    {
      "cell_type": "markdown",
      "source": [
        "# Question 1\n",
        "Implement a program that requests three strings from the user. Your \n",
        "program should concatenate the first two strings in the reverse order and compare \n",
        "the concatenated string with the third string. If they are equal, your program \n",
        "should print “They are equal”, otherwise, the program prints “They are not \n",
        "equal”. \n",
        "A sample run is shown below: \n",
        "\n",
        "\n",
        "Enter first string: you! \n",
        "\n",
        "Enter second string: Thank \n",
        "\n",
        "Enter third string: Thankyou! \n",
        "\n",
        "They are equal \n",
        "_________________________\n",
        "\n",
        "Enter string 1: you2! \n",
        "\n",
        "Enter second string: Thank \n",
        "\n",
        "Enter third string: Thankyou! \n",
        "\n",
        "They are not equal "
      ],
      "metadata": {
        "id": "sO0oOB0lPGTD"
      }
    },
    {
      "cell_type": "markdown",
      "source": [
        "## Algorithm\n",
        "\n",
        "Step1. While True, prompt the user to enter the first string and store it in a variable called firstString.\n",
        "\n",
        "Step2. If firstString is an empty string, break out of the loop.\n",
        "\n",
        "Step3. Prompt the user to enter the second string and store it in a variable called secondString.\n",
        "\n",
        "Step4. Prompt the user to enter the third string and store it in a variable called thirdString.\n",
        "\n",
        "Step5. Concatenate the values of secondString and firstString and store it in a variable called concString.\n",
        "\n",
        "Step6. If concString is equal to thirdString, print \"They are equal\".\n",
        "\n",
        "Step7. Else, print \"They are not equal\".\n"
      ],
      "metadata": {
        "id": "KG2R2c_nyLIe"
      }
    },
    {
      "cell_type": "code",
      "source": [
        "while True:\n",
        "  #Getting input of the 3 strings\n",
        "  firstString = input(\"Enter first string : \")\n",
        "  if(firstString==''):\n",
        "    break\n",
        "  secondString = input(\"Enter second string : \")\n",
        "  thirdString = input(\"Enter third string : \")\n",
        "  concString=secondString+firstString #Concatenate the strings in reverse order\n",
        "  #Compare concatenated string and third string\n",
        "  if(concString==thirdString):\n",
        "      print(\"They are equal\")\n",
        "  else:\n",
        "      print(\"They are not equal\")\n"
      ],
      "metadata": {
        "colab": {
          "base_uri": "https://localhost:8080/"
        },
        "id": "cQPY4bnrPErw",
        "outputId": "3fb259c8-3f74-4315-b712-a8e96560a6d9"
      },
      "execution_count": 61,
      "outputs": [
        {
          "name": "stdout",
          "output_type": "stream",
          "text": [
            "Enter first string : You\n",
            "Enter second string : Thank\n",
            "Enter third string : Thankyou\n",
            "They are not equal\n",
            "Enter first string : you\n",
            "Enter second string : thanks\n",
            "Enter third string : thankyou\n",
            "They are not equal\n",
            "Enter first string : \n"
          ]
        }
      ]
    },
    {
      "cell_type": "markdown",
      "source": [
        "# Question 2\n",
        "Write a Python program that reads in 3 integers or 4 integers (user first \n",
        "determines 3 or 4 integers) and displays the following: \n",
        "a. the average of the numbers (two decimal places suggested) \n",
        "b. the maximum of the numbers \n",
        "Do not use Python’s internal functions for average and maximum.  \n",
        " "
      ],
      "metadata": {
        "id": "lLJkcPygVZ6A"
      }
    },
    {
      "cell_type": "markdown",
      "source": [
        "## Algorithm\n",
        "Step 1: Initialize a variable sum to 0\n",
        "\n",
        "Step 2: Find the length of the list using len() function and assign it to count variable\n",
        "\n",
        "Step 3: Create a for loop that iterates over each number in the list num:\n",
        "\n",
        "*   Initialize a variable i to 0\n",
        "*   Check if i is less than count\n",
        "\n",
        "*   If true, go to Step 4, else go to Step 5\n",
        "\n",
        "\n",
        "Step 4: Inside the for loop:\n",
        "\n",
        "*   Add the current number to sum\n",
        "*   Increment i by 1\n",
        "\n",
        "Step 5: Calculate the average of the numbers by dividing sum by count and assign it to avgNum\n",
        "\n",
        "Step 6: Return avgNum as output."
      ],
      "metadata": {
        "id": "NOOys8Yu2PrC"
      }
    },
    {
      "cell_type": "code",
      "source": [
        "#function to find the average of the numbers\n",
        "def avg(num):\n",
        "  sum=0\n",
        "  count=len(num)\n",
        "  for i in range(0,count):\n",
        "    sum += num[i]\n",
        "  #average = (sum of all numbers)/(count of the numbers)\n",
        "  avgNum = sum/count\n",
        "  return avgNum"
      ],
      "metadata": {
        "id": "810gLyfkdjGK"
      },
      "execution_count": 66,
      "outputs": []
    },
    {
      "cell_type": "markdown",
      "source": [
        "## Algorithm\n",
        "Step 1: Define a function named \"maximum\" which takes a list of numbers as an argument.\n",
        "\n",
        "Step 2: Set the variable \"lst\" to the first element of the input list \"num\".\n",
        "\n",
        "Step 3: Create a for loop that iterates over the length of the input list \"num\".\n",
        "\n",
        "Step 4: Inside the loop, compare each number in the list with the current maximum number (stored in \"lst\").\n",
        "\n",
        "Step 5: If the current number is greater than the maximum number, update \"lst\" to the current number.\n",
        "\n",
        "Step 6: If the current number is not greater than the maximum number, continue to the next iteration of the loop.\n",
        "\n",
        "Step 7: After the loop has finished, return the maximum number stored in \"lst\"."
      ],
      "metadata": {
        "id": "dVU1ovaU1kDd"
      }
    },
    {
      "cell_type": "code",
      "source": [
        "#function to find the maximum of the numbers\n",
        "def maximum(num):\n",
        "  #Assigning the initial number in the list to max \n",
        "  lst = num[0]\n",
        "  for i in range(0,len(num)):\n",
        "    if num[i]>lst:\n",
        "      #Comparing the numbers in the list and replacing 'max' if value is greater \n",
        "      lst = num[i]\n",
        "    else:\n",
        "      continue\n",
        "    return lst"
      ],
      "metadata": {
        "id": "d2rzbZDMugsW"
      },
      "execution_count": 69,
      "outputs": []
    },
    {
      "cell_type": "markdown",
      "source": [
        "## Algorithm\n",
        "Step1: Take an integer input from the user and store it in the variable inputCount.\n",
        "\n",
        "Step2: Check if the value of inputCount is equal to 3 or 4 using a conditional statement. If it is not equal to 3 or 4, print \"Invalid set of integers\" and exit the program. If it is equal to 3 or 4, continue to the next step.\n",
        "\n",
        "Step3: Create an empty list called number.\n",
        "\n",
        "Step4: Use a for loop to loop through inputCount times starting from 0. In each iteration of the loop, do the following:\n",
        "\n",
        "*   Print \"Enter i+1 number : \" where i is the current iteration variable.\n",
        "*   Take an integer input from the user and append it to the number list.\n",
        "\n",
        "Step5: Call the avg function with the number list as an argument and store the returned value in the variable averageNum.\n",
        "\n",
        "Step6: Print \"Average = \" followed by the value of averageNum formatted to 3 decimal places.\n",
        "\n",
        "Step7: Call the maximum function with the number list as an argument and store the returned value in the variable maximumNumber.\n",
        "\n",
        "Step8: Print \"Maximum Number = \" followed by the value of maximumNumber formatted to 3 decimal places."
      ],
      "metadata": {
        "id": "jqVX_VAJ3tc3"
      }
    },
    {
      "cell_type": "code",
      "source": [
        "#Get input for the number of values inserted(choose 3 or 4)\n",
        "inputCount = int(input(\"Enter set of 3 or 4 integers : \"))\n",
        "#Validating if the number of input is 3 or 4\n",
        "if(inputCount != 3 and inputCount != 4):\n",
        "  print(\"Invalid set of integers\")\n",
        "else:\n",
        "  number=[]\n",
        "  for i in range(0,inputCount):\n",
        "    print(\"Enter\", i+1,\"number : \",end='')\n",
        "    #Getting the input numbers\n",
        "    number.append(int(input()))\n",
        "  \n",
        "  #Function called to calculate average and max\n",
        "  averageNum = avg(number)\n",
        "  print(f\"Average = {averageNum:.3f}\")\n",
        "  maximumNumber = maximum(number)\n",
        "  print(f\"Maximum Number = {maximumNumber:.3f}\")\n",
        "  "
      ],
      "metadata": {
        "colab": {
          "base_uri": "https://localhost:8080/"
        },
        "id": "7FDPqsV1VLgs",
        "outputId": "195a579d-fc01-4869-9164-29bd6b040086"
      },
      "execution_count": 70,
      "outputs": [
        {
          "output_type": "stream",
          "name": "stdout",
          "text": [
            "Enter set of 3 or 4 integers : 4\n",
            "Enter 1 number : 34\n",
            "Enter 2 number : 5436\n",
            "Enter 3 number : 34\n",
            "Enter 4 number : 45\n",
            "Average = 1387.250\n",
            "Maximum Number = 5436.000\n"
          ]
        }
      ]
    },
    {
      "cell_type": "markdown",
      "source": [
        "# Question 3\n",
        "An integer, greater than 1, that is only divisible by 1 and itself is called \n",
        "a prime number. All other numbers greater than 1 are called composite numbers. \n",
        "The integers 0 and 1 are neither prime nor composite. Write a python program \n",
        "that requests a positive integer from the user, determines if it is a prime, \n",
        "composite or neither prime or composite and prints the message."
      ],
      "metadata": {
        "id": "4sLwLO-5vs5e"
      }
    },
    {
      "cell_type": "markdown",
      "source": [
        "## Algorithm\n",
        "\n",
        "Step1: Start a try block, then accept an integer 'n' from the user\n",
        "\n",
        "Step2: If n is greater than 1, set a boolean flag (\"prime_bool\") as False\n",
        "\n",
        "Step3: Start a for loop with a variable iterator 'i' for checking the divisibility, starting from range 2 and goes till half of the value of n which is (n/2 + 1)\n",
        "\n",
        "Step4: If 'n' is divisible by any of the value of 'i', set 'prime_bool' as True\n",
        "\n",
        "Step5: Break out of the loop\n",
        "\n",
        "Step6: If 'prime_bool' is True, it means the number 'n' has a divisor other than 1 and itself, so it is a Composite Number. Print the same\n",
        "\n",
        "Step7: If 'prime_bool' is False, it means the number 'n' DOES NOT have a divisor other than 1 and itself, so it is a Prime Number. Print the same\n",
        "\n",
        "Step8: Else if 'n' is equal to either 0 or 1, print that the number is neither prime nor composite\n",
        "\n",
        "Step9: Else if 'n' is less than 0, then the value is negative so print that the user did not enter a positive integer\n",
        "\n",
        "Step10: If the user did not input an integer, the except block is executed where it is printed that the user did not enter a integer"
      ],
      "metadata": {
        "id": "FsZezvIb5ghf"
      }
    },
    {
      "cell_type": "code",
      "source": [
        "# The problem require only integer input, an exception is raised at the except block if a float or string value is passed\n",
        "try:\n",
        "  # Accept an integer input from the user\n",
        "    num = int(input(\"Enter the number: \"))\n",
        "    if num>1:\n",
        "      # Setting a boolean flag as False for verification purpose\n",
        "        isPrime = False\n",
        "        # Running through For loop to check the divisibility of 'n' starting from 2 till n/2\n",
        "        for i in range(2,int(num/2)+1):\n",
        "          # Checking if the number is divisible\n",
        "          if num%i == 0:\n",
        "            isPrime = True\n",
        "            break\n",
        "        # If the boolean value is True, n is a Composite number\n",
        "        if isPrime == True:\n",
        "            print(\"It is a Composite\")\n",
        "        else:\n",
        "            print(\"It is a Prime\")\n",
        "    # If n is neither 0 nor 1, as per math rules, it is neither prime nor composite number\n",
        "    elif (num == 0) or (num == 1):\n",
        "        print(\"It is neither prime nor composite\")\n",
        "    # Negative numbers do not qualify for prime or composite checking\n",
        "    elif num<0:\n",
        "        print(\"Error: You did not enter a positive integer\")\n",
        "except:\n",
        "    # If the user does not enter an integer, an exception is raised\n",
        "    print(\"Error: You did not enter an integer\")"
      ],
      "metadata": {
        "colab": {
          "base_uri": "https://localhost:8080/"
        },
        "id": "tiJkCy4Kvxgf",
        "outputId": "41f61ec6-d1f9-42ef-e2c3-6704a9a8f779"
      },
      "execution_count": 92,
      "outputs": [
        {
          "output_type": "stream",
          "name": "stdout",
          "text": [
            "Enter the number: -5\n",
            "Error: You did not enter a positive integer\n"
          ]
        }
      ]
    },
    {
      "cell_type": "markdown",
      "source": [
        "# Question 4\n",
        "Implement a Python function with 3 arguments called \n",
        "SimpleInterest(Principle, Interest, Years). The arguments are: \n",
        "\n",
        "a. A principle amount (float) \n",
        "\n",
        "b. Interest Rate (0 to 100% as a float) \n",
        "\n",
        "c. Years (integer) \n",
        "\n",
        "Your function should return the simple interest amount. \n",
        "The formula for a simple interest is (Principle*InterestRate*Years)/100 \n",
        "Write your function definition in one cell and the function calling code below it or \n",
        "in a different cell in Jupyter Notebook. \n",
        "Your code should ensure that the user input is in the correct type and format "
      ],
      "metadata": {
        "id": "UBgSFbJ6SgJB"
      }
    },
    {
      "cell_type": "markdown",
      "source": [
        "## Algorithm\n",
        "Step1: Start the function simpleInterest with parameters principalAmt, interestRate, and year.\n",
        "\n",
        "Step2: Calculate the simple interest using the formula (principalAmt*interestRate*year)/100 and store it in the variable simpleInt.\n",
        "\n",
        "Step3: Return the value of simpleInt.\n",
        "\n",
        "Step4: End the function.\n",
        "\n",
        "\n"
      ],
      "metadata": {
        "id": "Tsh2J7Kx6W9m"
      }
    },
    {
      "cell_type": "code",
      "source": [
        "#Declare function Simple Interest, using the given formula\n",
        "def simpleInterest(principalAmt,interestRate,year):\n",
        "  simpleInt = (principalAmt*interestRate*year)/100\n",
        "  return simpleInt"
      ],
      "metadata": {
        "id": "XXOSU6NYTWTt"
      },
      "execution_count": 40,
      "outputs": []
    },
    {
      "cell_type": "markdown",
      "source": [
        "## Algorithm\n",
        "Step1: Prompt the user to enter the principle amount as a float and store it in a variable named \"prAmt\".\n",
        "\n",
        "Step2: Prompt the user to enter the interest rate as a float and store it in a variable named \"intAmt\".\n",
        "\n",
        "Step3: Check if the value of \"intAmt\" is between 0 and 100. If not, print \"Interest does not lie between 0 and 100\".\n",
        "\n",
        "Step4: If the value of \"intAmt\" is between 0 and 100, prompt the user to enter the number of years as an integer and store it in a variable named \"years\".\n",
        "\n",
        "Step5: Check if the value of \"years\" is less than 0. If so, print \"Years can not be less than 0\".\n",
        "\n",
        "Step6: If the value of \"years\" is greater than or equal to 0, call the function \"simpleInterest\" with the arguments \"prAmt\", \"intAmt\", and \"years\", and store the result in a variable named \"output\".\n",
        "\n",
        "Step7: Print the value of \"output\" with a precision of 2 decimal places, preceded by the string \"Simple Interest is: \"."
      ],
      "metadata": {
        "id": "KBtnPGia65SZ"
      }
    },
    {
      "cell_type": "code",
      "source": [
        "#Gather inputs like principle amount, interest rate\n",
        "prAmt = float(input(\"Enter the principle amount: \"))\n",
        "intAmt = float(input(\"Enter the interest rate in decimal: \"))\n",
        "if(intAmt > 100 or intAmt < 0):\n",
        "   # Interest needs to be between 0 and 100\n",
        "  print(\"Interest does not lie between 0 and 100\")\n",
        "else:\n",
        "  # If the value of Interest is valid, Years value is accepted from the user\n",
        "  years = int(input(\"Enter the years: \"))\n",
        "  # Years cannot be less than 0. Can be equal to 0 because interst could be calculatd right after borrowing money \n",
        "  if(years < 0):\n",
        "    print(\"Years can not be less than 0\")\n",
        "  else:\n",
        "    # Calling the function \"SimpleInterest\" to calculate Simple Interest, and printing the value\n",
        "    output = simpleInterest(prAmt,intAmt,years)\n",
        "    print(f\"Simple Interest is: {output:.2f}\")"
      ],
      "metadata": {
        "colab": {
          "base_uri": "https://localhost:8080/"
        },
        "id": "eBb7HNUqUWc0",
        "outputId": "dffd47c1-f986-4265-ad99-ff5526df5902"
      },
      "execution_count": 43,
      "outputs": [
        {
          "output_type": "stream",
          "name": "stdout",
          "text": [
            "Enter the principle amount: 25\n",
            "Enter the interest rate in decimal: 1.5\n",
            "Enter the years: 4\n",
            "Simple Interest is: 1.50\n"
          ]
        }
      ]
    },
    {
      "cell_type": "markdown",
      "source": [
        "# Question 5\n",
        "Write a python program for a shopping cart. The program should \n",
        "allow shopper to enter the product name and price. Use loop so that shopper can \n",
        "enter as many inputs as necessary and validate the inputs as product name should \n",
        "be string and price should be more than $0. At the end, the output should \n",
        "\n",
        "• display the total the shopper needs to pay. Use f-string to format the total \n",
        "value for two decimal points and comma. \n",
        "\n",
        "• print the name and price for all the entries with appropriate headings. "
      ],
      "metadata": {
        "id": "mJ5XWe0aez_1"
      }
    },
    {
      "cell_type": "markdown",
      "source": [
        "## Algorithm\n",
        "Step 1: Define all the necessary variables\n",
        "\n",
        "Step 2: Create a while loop that will run as long as the user wants to continue.\n",
        "\n",
        "Step 3: Get the input for the product name and price.\n",
        "\n",
        "Step 4: Check the validity of the input. First, check if the product name is a string. If it is, move to Step 6; otherwise, go to Step 5.\n",
        "\n",
        "Step 5: Print an error message and prompt the user to enter a valid input for the product name.\n",
        "\n",
        "Step 6: Check the validity of the price. If the price is correct, move to Step 8; otherwise, go to Step 7.\n",
        "\n",
        "Step 7: Print an error message and prompt the user to enter a valid input for the price that is greater than 0.\n",
        "\n",
        "Step 8: Append both the values of the input into two separate lists, one for products and another for their respective prices.\n",
        "\n",
        "Step 9: Use a variable to determine whether the user wants to continue or not. If the user wants to continue, repeat Steps 3-8.\n",
        "\n",
        "Step 10: Use a for loop to list all the products purchased by the user and use the same to calculate the sum of all prices.\n",
        "\n",
        "Step 11: Print the output of the total price."
      ],
      "metadata": {
        "id": "q5hAnxjZ8BDx"
      }
    },
    {
      "cell_type": "code",
      "source": [
        "#Variables are declared\n",
        "amount = []\n",
        "product = []\n",
        "sum = 0\n",
        "toAdd = \"y\"\n",
        "#loop for multiple products till the user stops\n",
        "while toAdd == \"y\":\n",
        "  #Get product name\n",
        "  productName = input(\"Enter the name of the product: \")\n",
        "  #Get price of the product \n",
        "  price = float(input(\"Enter the price of the product: \")) \n",
        "  #Check if the product name is valid \n",
        "  if not productName.isalpha(): \n",
        "    print(\"ERROR: Enter a valid product name\")\n",
        "    productName = input(\"Enter the valid name of the product: \") \n",
        "    #Add the product name to the list\n",
        "    product.append(productName) \n",
        "  else:\n",
        "    if price < 0.0:\n",
        "      print(\"ERROR: Enter a valid price\")\n",
        "      price = float(input(\"Enter the valid price of the product: \"))\n",
        "    product.append(productName)\n",
        "    amount.append(price)\n",
        "  #process continued till user types 'n'\n",
        "  toAdd = input(\"Do you want to add another product? (y/n): \") \n",
        "\n",
        "print(\"\\nLIST OF ALL PRODUCTS\")\n",
        "print(\"-------------------------\")\n",
        "print(\"PRODUCT\\t\\tPRICES\")\n",
        "for i in range(0, len(product)):\n",
        "  #Calculate total price\n",
        "  sum += amount[i]  \n",
        "  print(product[i],\"\\t\\t\",amount[i])\n",
        "print(f\"\\nTOTAL PRICE = ${sum:,.2f}\")"
      ],
      "metadata": {
        "colab": {
          "base_uri": "https://localhost:8080/"
        },
        "id": "CULcb9NufHBL",
        "outputId": "3329d0e5-d8ed-42d4-8a39-952d69cf328b"
      },
      "execution_count": 49,
      "outputs": [
        {
          "output_type": "stream",
          "name": "stdout",
          "text": [
            "Enter the name of the product: Milk\n",
            "Enter the price of the product: 50\n",
            "Do you want to add another product? (y/n): y\n",
            "Enter the name of the product: Oats\n",
            "Enter the price of the product: 43.90\n",
            "Do you want to add another product? (y/n): y\n",
            "Enter the name of the product: Oil\n",
            "Enter the price of the product: 45.39\n",
            "Do you want to add another product? (y/n): y\n",
            "Enter the name of the product: Eggs\n",
            "Enter the price of the product: 43.65\n",
            "Do you want to add another product? (y/n): n\n",
            "\n",
            "LIST OF ALL PRODUCTS\n",
            "-------------------------\n",
            "PRODUCT\t\tPRICES\n",
            "Milk \t\t 50.0\n",
            "Oats \t\t 43.9\n",
            "Oil \t\t 45.39\n",
            "Eggs \t\t 43.65\n",
            "\n",
            "TOTAL PRICE = $182.94\n"
          ]
        }
      ]
    },
    {
      "cell_type": "markdown",
      "source": [
        "# Question 6\n",
        " “Rock-paper-scissors is a hand game that is played by two people. The         \n",
        "players count to three in unison and simultaneously \"throw\" one of three hand \n",
        "signals that correspond to rock, paper or scissors. The winner is determined by the \n",
        "rules: \n",
        "\n",
        "• Rock smashes scissors \n",
        "\n",
        "• Scissors cuts paper \n",
        "\n",
        "• Paper covers rock \n",
        " \n",
        "Rock-paper-scissors is a surprisingly popular game that many people play \n",
        "seriously (see the Wikipedia article for details). \n",
        "Write a Python program to ask the user’s choice of Rock paper scissors. The \n",
        "program then, randomly, chooses a choice for itself (the computer) and then \n",
        "compares it with the user’s choice. The output should show, the user’s choice, the \n",
        "program’s choice and the winner. "
      ],
      "metadata": {
        "id": "mO0RImaljPm8"
      }
    },
    {
      "cell_type": "markdown",
      "source": [
        "## Algorithm\n",
        "\n",
        "Step1: Import the necessary modules:\n",
        "random and\n",
        "pandas\n",
        "\n",
        "Step2: Define a function that takes the user's choice as an input and returns the computer's choice as a randomly generated option.\n",
        "\n",
        "Step3: Create a list of options for the game:\n",
        "\n",
        "rock,\n",
        "paper and\n",
        "scissors\n",
        "\n",
        "Step4: Define a function to determine the winner based on the following rules:\n",
        "\n",
        "\n",
        "*   Rock smashes scissors\n",
        "\n",
        "*   Scissors cuts paper\n",
        "*   Paper covers rock\n",
        "\n",
        "\n",
        "Step5: Create a pandas dataframe with columns for:\n",
        "\n",
        "*   User Choice\n",
        "\n",
        "*  Computer Choice\n",
        "*   Winner\n",
        "\n",
        "Step6: Create a loop that plays the game at least 10 times.\n",
        "\n",
        "Step7: For each iteration of the loop, ask the user to input their choice of rock, paper, or scissors.\n",
        "\n",
        "Step8: Call the function to get the computer's choice.\n",
        "\n",
        "Step9: Determine the winner based on the rules defined in step 4.\n",
        "\n",
        "Step10: Append the user's choice, computer's choice, and winner to the pandas dataframe created in step 5.\n",
        "\n",
        "Step11: Print the results of each iteration of the game.\n",
        "\n",
        "Step12: Print the final results, including the number of times the user won, the number of times the computer won, and the number of ties.\n",
        "\n",
        "Step13: Print the pandas dataframe created in step 5."
      ],
      "metadata": {
        "id": "3dsuffykBRmf"
      }
    },
    {
      "cell_type": "code",
      "source": [
        "import random\n",
        "import pandas as pd\n",
        "\n",
        "#Rules of the game is defined here\n",
        "rules = {'rock': 'scissors', 'scissors': 'paper', 'paper': 'rock'}\n",
        "\n",
        "# Function to determine the winner\n",
        "def getWinner(userChoice, compChoice):\n",
        "    if userChoice == compChoice:\n",
        "        return 'tie'\n",
        "    elif rules[userChoice] == compChoice:\n",
        "        return 'user'\n",
        "    else:\n",
        "        return 'computer'\n",
        "\n",
        "# Game results is stored in the list created\n",
        "userListChoice = []\n",
        "compListChoice = []\n",
        "winners = []\n",
        "\n",
        "# Setting 10 rounds in the game\n",
        "for i in range(10):\n",
        "    # Get the user choice for the game\n",
        "    userChoice = input(\"\\nEnter your choice (rock/paper/scissors): \").lower()\n",
        "    while userChoice not in ['rock', 'paper', 'scissors']:\n",
        "        userChoice = input(\"\\nInvalid input! Please enter your choice (rock/paper/scissors): \").lower()\n",
        "    userListChoice.append(userChoice)\n",
        "    # Get the computer's random choice\n",
        "    compChoice = random.choice(['rock', 'paper', 'scissors'])\n",
        "    compListChoice.append(compChoice)\n",
        "    # Winner result is gathered and stored\n",
        "    winner = getWinner(userChoice, compChoice)\n",
        "    winners.append(winner)\n",
        "    # Round result is printed \n",
        "    print(f\"Round {i+1}: You chose {userChoice}, the computer chose {compChoice}.\")\n",
        "    if winner == 'tie':\n",
        "        print(\"It's a tie!\")\n",
        "    else:\n",
        "        print(f\"The {winner} wins!\")\n",
        "\n",
        "# Created a Pandas and store the game result\n",
        "df = pd.DataFrame({\n",
        "    'USER CHOICE': userListChoice,\n",
        "    'COMPUTER CHOICE': compListChoice,\n",
        "    'WINNER': winners\n",
        "})\n",
        "print(\"\\n-------------------\\nr\")\n",
        "print(\"\\nGame results:\\n\", df)\n",
        "print(\"\\n-------------------\")"
      ],
      "metadata": {
        "colab": {
          "base_uri": "https://localhost:8080/"
        },
        "id": "l0wSgLin-7rr",
        "outputId": "e92f901a-dcdf-4f82-88c6-3cf5eff91646"
      },
      "execution_count": 86,
      "outputs": [
        {
          "output_type": "stream",
          "name": "stdout",
          "text": [
            "\n",
            "Enter your choice (rock/paper/scissors): rock\n",
            "Round 1: You chose rock, the computer chose rock.\n",
            "It's a tie!\n",
            "\n",
            "Enter your choice (rock/paper/scissors): rock\n",
            "Round 2: You chose rock, the computer chose rock.\n",
            "It's a tie!\n",
            "\n",
            "Enter your choice (rock/paper/scissors): paper\n",
            "Round 3: You chose paper, the computer chose rock.\n",
            "The user wins!\n",
            "\n",
            "Enter your choice (rock/paper/scissors): rock\n",
            "Round 4: You chose rock, the computer chose scissors.\n",
            "The user wins!\n",
            "\n",
            "Enter your choice (rock/paper/scissors): scissor\n",
            "\n",
            "Invalid input! Please enter your choice (rock/paper/scissors): scissors\n",
            "Round 5: You chose scissors, the computer chose scissors.\n",
            "It's a tie!\n",
            "\n",
            "Enter your choice (rock/paper/scissors): rock\n",
            "Round 6: You chose rock, the computer chose scissors.\n",
            "The user wins!\n",
            "\n",
            "Enter your choice (rock/paper/scissors): Rock\n",
            "Round 7: You chose rock, the computer chose scissors.\n",
            "The user wins!\n",
            "\n",
            "Enter your choice (rock/paper/scissors): paper\n",
            "Round 8: You chose paper, the computer chose rock.\n",
            "The user wins!\n",
            "\n",
            "Enter your choice (rock/paper/scissors): paper\n",
            "Round 9: You chose paper, the computer chose scissors.\n",
            "The computer wins!\n",
            "\n",
            "Enter your choice (rock/paper/scissors): paper\n",
            "Round 10: You chose paper, the computer chose scissors.\n",
            "The computer wins!\n",
            "\n",
            "-------------------\n",
            "r\n",
            "\n",
            "Game results:\n",
            "   USER CHOICE COMPUTER CHOICE    WINNER\n",
            "0        rock            rock       tie\n",
            "1        rock            rock       tie\n",
            "2       paper            rock      user\n",
            "3        rock        scissors      user\n",
            "4    scissors        scissors       tie\n",
            "5        rock        scissors      user\n",
            "6        rock        scissors      user\n",
            "7       paper            rock      user\n",
            "8       paper        scissors  computer\n",
            "9       paper        scissors  computer\n",
            "\n",
            "-------------------\n"
          ]
        }
      ]
    },
    {
      "cell_type": "markdown",
      "source": [
        "# Question 7\n",
        "Write a program where the user and the program/computer play a \n",
        "number guessing game. The program should prompt the user for a number \n",
        "(between 1 and 100, inclusive) then the program/computer has to guess what the \n",
        "user entered. Keep track of the number of iterations it takes for the computer to \n",
        "guess the number. Sample runs are shown below: \n",
        " \n",
        "Enter number to be guessed: 88\n",
        "\n",
        "You entered 88, and it took the program 3 iterations to guess \n",
        "\n",
        "\n",
        "\n",
        "Enter number to be guessed: 55 \n",
        "\n",
        "You entered 55, and it took the program 19 iterations to guess "
      ],
      "metadata": {
        "id": "fEsVVcKYw_8G"
      }
    },
    {
      "cell_type": "markdown",
      "source": [
        "## Algorithm\n",
        "Step1: Import the necessary module: random.\n",
        "\n",
        "Step2: Ask the user to input a number between 0 to 100 inclusive.\n",
        "\n",
        "Step3: Initialize a variable 'count' to 1, which will be used to count the number of attempts taken by the computer to guess the user's input.\n",
        "\n",
        "Step4: Use a try-except block to handle any potential errors that may occur during the execution of the code.\n",
        "\n",
        "Step5: Check if the user's input is out of range (less than 0 or greater than 100). If it is, print an error message.\n",
        "\n",
        "Step6: If the input is within range, execute a while loop that continues until the randomly generated number by the computer matches the user's input.\n",
        "\n",
        "Step7: Within the while loop, increment the 'count' variable by 1 for every attempt made by the computer.\n",
        "\n",
        "Step8: When the while loop breaks, print a message showing the user's input and the number of attempts taken by the computer to guess the input.\n",
        "\n",
        "Step9: If an exception occurs, print an error message."
      ],
      "metadata": {
        "id": "nA1xaulVEo44"
      }
    },
    {
      "cell_type": "code",
      "source": [
        "import random\n",
        "#prompt user to enter number between 0 to 100\n",
        "userNumber = int(input(\"Enter a number between 0 to 100 inclusive \"))\n",
        "count = 1\n",
        "try:\n",
        "  #check if user input is out of range throw error\n",
        "  if userNumber < 0 or userNumber > 100:\n",
        "    print(\"Entered number is out of range\")\n",
        "  else:\n",
        "    #execute while loop, continue until random number matches user input\n",
        "    while random.randrange(0,101) != userNumber:\n",
        "      count += 1   #increment the 'count' variable by 1 for every attempt made\n",
        "    print(f\"You entered {userNumber}, and it took the computer {count} attempts to guess the number\")\n",
        "except:\n",
        "  print(\"An error has occured\")"
      ],
      "metadata": {
        "colab": {
          "base_uri": "https://localhost:8080/"
        },
        "id": "SaIgphu7xUVQ",
        "outputId": "f4d55a82-9b75-49ca-9131-c7f737fd502e"
      },
      "execution_count": 90,
      "outputs": [
        {
          "output_type": "stream",
          "name": "stdout",
          "text": [
            "Enter a number between 0 to 100 inclusive 55\n",
            "You entered 55, and it took the computer 36 attempts to guess the number\n"
          ]
        }
      ]
    }
  ]
}