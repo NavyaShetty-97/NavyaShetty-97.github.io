{
  "nbformat": 4,
  "nbformat_minor": 0,
  "metadata": {
    "colab": {
      "name": "FinalProject.ipynb",
      "provenance": [],
      "collapsed_sections": [],
      "authorship_tag": "ABX9TyNS4cRcXHl5I+oHnzYpxw79",
      "include_colab_link": true
    },
    "kernelspec": {
      "name": "python3",
      "display_name": "Python 3"
    },
    "language_info": {
      "name": "python"
    },
    "accelerator": "GPU"
  },
  "cells": [
    {
      "cell_type": "markdown",
      "metadata": {
        "id": "view-in-github",
        "colab_type": "text"
      },
      "source": [
        "<a href=\"https://colab.research.google.com/github/NavyaShetty-97/NavyaShetty-97.github.io/blob/master/FinalProject_ImageClassifier(SignLanguage).ipynb\" target=\"_parent\"><img src=\"https://colab.research.google.com/assets/colab-badge.svg\" alt=\"Open In Colab\"/></a>"
      ]
    },
    {
      "cell_type": "code",
      "execution_count": 34,
      "metadata": {
        "colab": {
          "base_uri": "https://localhost:8080/"
        },
        "id": "ZrJq3FNkKVMn",
        "outputId": "6268773c-8c33-4954-eef2-082eb67bcda1"
      },
      "outputs": [
        {
          "output_type": "stream",
          "name": "stdout",
          "text": [
            "Requirement already satisfied: kaggle in /usr/local/lib/python3.7/dist-packages (1.5.12)\n",
            "Requirement already satisfied: six>=1.10 in /usr/local/lib/python3.7/dist-packages (from kaggle) (1.15.0)\n",
            "Requirement already satisfied: python-slugify in /usr/local/lib/python3.7/dist-packages (from kaggle) (6.1.2)\n",
            "Requirement already satisfied: certifi in /usr/local/lib/python3.7/dist-packages (from kaggle) (2021.10.8)\n",
            "Requirement already satisfied: tqdm in /usr/local/lib/python3.7/dist-packages (from kaggle) (4.64.0)\n",
            "Requirement already satisfied: python-dateutil in /usr/local/lib/python3.7/dist-packages (from kaggle) (2.8.2)\n",
            "Requirement already satisfied: requests in /usr/local/lib/python3.7/dist-packages (from kaggle) (2.23.0)\n",
            "Requirement already satisfied: urllib3 in /usr/local/lib/python3.7/dist-packages (from kaggle) (1.24.3)\n",
            "Requirement already satisfied: text-unidecode>=1.3 in /usr/local/lib/python3.7/dist-packages (from python-slugify->kaggle) (1.3)\n",
            "Requirement already satisfied: chardet<4,>=3.0.2 in /usr/local/lib/python3.7/dist-packages (from requests->kaggle) (3.0.4)\n",
            "Requirement already satisfied: idna<3,>=2.5 in /usr/local/lib/python3.7/dist-packages (from requests->kaggle) (2.10)\n"
          ]
        }
      ],
      "source": [
        "! pip install kaggle"
      ]
    },
    {
      "cell_type": "code",
      "source": [
        "! mkdir ~/.kaggle"
      ],
      "metadata": {
        "id": "9OB4GWK4MziQ",
        "colab": {
          "base_uri": "https://localhost:8080/"
        },
        "outputId": "0f73bcd7-9cda-40e5-89e1-cf715a85a7e7"
      },
      "execution_count": 35,
      "outputs": [
        {
          "output_type": "stream",
          "name": "stdout",
          "text": [
            "mkdir: cannot create directory ‘/root/.kaggle’: File exists\n"
          ]
        }
      ]
    },
    {
      "cell_type": "code",
      "source": [
        "! cp kaggle.json ~/.kaggle/"
      ],
      "metadata": {
        "id": "hufrO_BEM5k8"
      },
      "execution_count": null,
      "outputs": []
    },
    {
      "cell_type": "code",
      "source": [
        "! chmod 600 ~/.kaggle/kaggle.json"
      ],
      "metadata": {
        "id": "rcjqJwg3M6uo"
      },
      "execution_count": null,
      "outputs": []
    },
    {
      "cell_type": "code",
      "source": [
        "! kaggle datasets download datamunge/sign-language-mnist"
      ],
      "metadata": {
        "colab": {
          "base_uri": "https://localhost:8080/"
        },
        "id": "SMHzbeQDNQHD",
        "outputId": "ad12a89d-352c-4852-c257-8946c68d0087"
      },
      "execution_count": null,
      "outputs": [
        {
          "output_type": "stream",
          "name": "stdout",
          "text": [
            "Downloading sign-language-mnist.zip to /content\n",
            "100% 62.6M/62.6M [00:00<00:00, 171MB/s]\n",
            "100% 62.6M/62.6M [00:00<00:00, 148MB/s]\n"
          ]
        }
      ]
    },
    {
      "cell_type": "code",
      "source": [
        "!unzip /content/sign-language-mnist.zip"
      ],
      "metadata": {
        "colab": {
          "base_uri": "https://localhost:8080/"
        },
        "id": "gBLJR3m3NutU",
        "outputId": "cad2faad-2d40-499e-fe44-be74095a15be"
      },
      "execution_count": null,
      "outputs": [
        {
          "output_type": "stream",
          "name": "stdout",
          "text": [
            "Archive:  /content/sign-language-mnist.zip\n",
            "  inflating: amer_sign2.png          \n",
            "  inflating: amer_sign3.png          \n",
            "  inflating: american_sign_language.PNG  \n",
            "  inflating: sign_mnist_test.csv     \n",
            "  inflating: sign_mnist_test/sign_mnist_test.csv  \n",
            "  inflating: sign_mnist_train.csv    \n",
            "  inflating: sign_mnist_train/sign_mnist_train.csv  \n"
          ]
        }
      ]
    },
    {
      "cell_type": "code",
      "source": [
        "#Import the library \n",
        "import pandas as pd\n",
        "import numpy as np\n",
        "import seaborn as sns\n",
        "import tensorflow as tf\n",
        "\n",
        "import csv\n",
        "import string\n",
        "\n",
        "import matplotlib.pyplot as plt\n",
        "import plotly.express as px\n",
        "from PIL import Image\n",
        "\n",
        "from tensorflow.keras.preprocessing.image import ImageDataGenerator, array_to_img\n",
        "from tensorflow.keras.applications.inception_v3 import InceptionV3\n",
        "\n",
        "from keras.callbacks import ReduceLROnPlateau"
      ],
      "metadata": {
        "id": "XTNWu-SWYgZv"
      },
      "execution_count": null,
      "outputs": []
    },
    {
      "cell_type": "code",
      "source": [
        "!unzip /content/Dataset.zip"
      ],
      "metadata": {
        "colab": {
          "base_uri": "https://localhost:8080/"
        },
        "id": "0v8B48D7dL9k",
        "outputId": "54bc9489-a223-4fcb-adda-d9eed6576d28"
      },
      "execution_count": null,
      "outputs": [
        {
          "output_type": "stream",
          "name": "stdout",
          "text": [
            "unzip:  cannot find or open /content/Dataset.zip, /content/Dataset.zip.zip or /content/Dataset.zip.ZIP.\n"
          ]
        }
      ]
    },
    {
      "cell_type": "code",
      "source": [
        "#Directory of Training dataset and Validation dataset\n",
        "TRAINING_DATA = '../content/sign_mnist_train/sign_mnist_train.csv'\n",
        "VALIDATION_DATA = '../content/sign_mnist_test/sign_mnist_test.csv'"
      ],
      "metadata": {
        "id": "k3PIJBa7YL4L"
      },
      "execution_count": null,
      "outputs": []
    },
    {
      "cell_type": "code",
      "source": [
        "# loading the training file which is in csv format and printing the lines\n",
        "\n",
        "with open(TRAINING_DATA) as training_data:\n",
        "    line = training_data.readline()\n",
        "    print(f\"First line (header) looks like this:\\n{line}\")\n",
        "    line = training_data.readline()\n",
        "    print(f\"Each subsequent line (data points) look like this:\\n{line}\")"
      ],
      "metadata": {
        "colab": {
          "base_uri": "https://localhost:8080/"
        },
        "id": "BHUK3P-ocWL2",
        "outputId": "3fb5e778-3ea9-47bb-cfc6-30383ffd07c1"
      },
      "execution_count": null,
      "outputs": [
        {
          "output_type": "stream",
          "name": "stdout",
          "text": [
            "First line (header) looks like this:\n",
            "label,pixel1,pixel2,pixel3,pixel4,pixel5,pixel6,pixel7,pixel8,pixel9,pixel10,pixel11,pixel12,pixel13,pixel14,pixel15,pixel16,pixel17,pixel18,pixel19,pixel20,pixel21,pixel22,pixel23,pixel24,pixel25,pixel26,pixel27,pixel28,pixel29,pixel30,pixel31,pixel32,pixel33,pixel34,pixel35,pixel36,pixel37,pixel38,pixel39,pixel40,pixel41,pixel42,pixel43,pixel44,pixel45,pixel46,pixel47,pixel48,pixel49,pixel50,pixel51,pixel52,pixel53,pixel54,pixel55,pixel56,pixel57,pixel58,pixel59,pixel60,pixel61,pixel62,pixel63,pixel64,pixel65,pixel66,pixel67,pixel68,pixel69,pixel70,pixel71,pixel72,pixel73,pixel74,pixel75,pixel76,pixel77,pixel78,pixel79,pixel80,pixel81,pixel82,pixel83,pixel84,pixel85,pixel86,pixel87,pixel88,pixel89,pixel90,pixel91,pixel92,pixel93,pixel94,pixel95,pixel96,pixel97,pixel98,pixel99,pixel100,pixel101,pixel102,pixel103,pixel104,pixel105,pixel106,pixel107,pixel108,pixel109,pixel110,pixel111,pixel112,pixel113,pixel114,pixel115,pixel116,pixel117,pixel118,pixel119,pixel120,pixel121,pixel122,pixel123,pixel124,pixel125,pixel126,pixel127,pixel128,pixel129,pixel130,pixel131,pixel132,pixel133,pixel134,pixel135,pixel136,pixel137,pixel138,pixel139,pixel140,pixel141,pixel142,pixel143,pixel144,pixel145,pixel146,pixel147,pixel148,pixel149,pixel150,pixel151,pixel152,pixel153,pixel154,pixel155,pixel156,pixel157,pixel158,pixel159,pixel160,pixel161,pixel162,pixel163,pixel164,pixel165,pixel166,pixel167,pixel168,pixel169,pixel170,pixel171,pixel172,pixel173,pixel174,pixel175,pixel176,pixel177,pixel178,pixel179,pixel180,pixel181,pixel182,pixel183,pixel184,pixel185,pixel186,pixel187,pixel188,pixel189,pixel190,pixel191,pixel192,pixel193,pixel194,pixel195,pixel196,pixel197,pixel198,pixel199,pixel200,pixel201,pixel202,pixel203,pixel204,pixel205,pixel206,pixel207,pixel208,pixel209,pixel210,pixel211,pixel212,pixel213,pixel214,pixel215,pixel216,pixel217,pixel218,pixel219,pixel220,pixel221,pixel222,pixel223,pixel224,pixel225,pixel226,pixel227,pixel228,pixel229,pixel230,pixel231,pixel232,pixel233,pixel234,pixel235,pixel236,pixel237,pixel238,pixel239,pixel240,pixel241,pixel242,pixel243,pixel244,pixel245,pixel246,pixel247,pixel248,pixel249,pixel250,pixel251,pixel252,pixel253,pixel254,pixel255,pixel256,pixel257,pixel258,pixel259,pixel260,pixel261,pixel262,pixel263,pixel264,pixel265,pixel266,pixel267,pixel268,pixel269,pixel270,pixel271,pixel272,pixel273,pixel274,pixel275,pixel276,pixel277,pixel278,pixel279,pixel280,pixel281,pixel282,pixel283,pixel284,pixel285,pixel286,pixel287,pixel288,pixel289,pixel290,pixel291,pixel292,pixel293,pixel294,pixel295,pixel296,pixel297,pixel298,pixel299,pixel300,pixel301,pixel302,pixel303,pixel304,pixel305,pixel306,pixel307,pixel308,pixel309,pixel310,pixel311,pixel312,pixel313,pixel314,pixel315,pixel316,pixel317,pixel318,pixel319,pixel320,pixel321,pixel322,pixel323,pixel324,pixel325,pixel326,pixel327,pixel328,pixel329,pixel330,pixel331,pixel332,pixel333,pixel334,pixel335,pixel336,pixel337,pixel338,pixel339,pixel340,pixel341,pixel342,pixel343,pixel344,pixel345,pixel346,pixel347,pixel348,pixel349,pixel350,pixel351,pixel352,pixel353,pixel354,pixel355,pixel356,pixel357,pixel358,pixel359,pixel360,pixel361,pixel362,pixel363,pixel364,pixel365,pixel366,pixel367,pixel368,pixel369,pixel370,pixel371,pixel372,pixel373,pixel374,pixel375,pixel376,pixel377,pixel378,pixel379,pixel380,pixel381,pixel382,pixel383,pixel384,pixel385,pixel386,pixel387,pixel388,pixel389,pixel390,pixel391,pixel392,pixel393,pixel394,pixel395,pixel396,pixel397,pixel398,pixel399,pixel400,pixel401,pixel402,pixel403,pixel404,pixel405,pixel406,pixel407,pixel408,pixel409,pixel410,pixel411,pixel412,pixel413,pixel414,pixel415,pixel416,pixel417,pixel418,pixel419,pixel420,pixel421,pixel422,pixel423,pixel424,pixel425,pixel426,pixel427,pixel428,pixel429,pixel430,pixel431,pixel432,pixel433,pixel434,pixel435,pixel436,pixel437,pixel438,pixel439,pixel440,pixel441,pixel442,pixel443,pixel444,pixel445,pixel446,pixel447,pixel448,pixel449,pixel450,pixel451,pixel452,pixel453,pixel454,pixel455,pixel456,pixel457,pixel458,pixel459,pixel460,pixel461,pixel462,pixel463,pixel464,pixel465,pixel466,pixel467,pixel468,pixel469,pixel470,pixel471,pixel472,pixel473,pixel474,pixel475,pixel476,pixel477,pixel478,pixel479,pixel480,pixel481,pixel482,pixel483,pixel484,pixel485,pixel486,pixel487,pixel488,pixel489,pixel490,pixel491,pixel492,pixel493,pixel494,pixel495,pixel496,pixel497,pixel498,pixel499,pixel500,pixel501,pixel502,pixel503,pixel504,pixel505,pixel506,pixel507,pixel508,pixel509,pixel510,pixel511,pixel512,pixel513,pixel514,pixel515,pixel516,pixel517,pixel518,pixel519,pixel520,pixel521,pixel522,pixel523,pixel524,pixel525,pixel526,pixel527,pixel528,pixel529,pixel530,pixel531,pixel532,pixel533,pixel534,pixel535,pixel536,pixel537,pixel538,pixel539,pixel540,pixel541,pixel542,pixel543,pixel544,pixel545,pixel546,pixel547,pixel548,pixel549,pixel550,pixel551,pixel552,pixel553,pixel554,pixel555,pixel556,pixel557,pixel558,pixel559,pixel560,pixel561,pixel562,pixel563,pixel564,pixel565,pixel566,pixel567,pixel568,pixel569,pixel570,pixel571,pixel572,pixel573,pixel574,pixel575,pixel576,pixel577,pixel578,pixel579,pixel580,pixel581,pixel582,pixel583,pixel584,pixel585,pixel586,pixel587,pixel588,pixel589,pixel590,pixel591,pixel592,pixel593,pixel594,pixel595,pixel596,pixel597,pixel598,pixel599,pixel600,pixel601,pixel602,pixel603,pixel604,pixel605,pixel606,pixel607,pixel608,pixel609,pixel610,pixel611,pixel612,pixel613,pixel614,pixel615,pixel616,pixel617,pixel618,pixel619,pixel620,pixel621,pixel622,pixel623,pixel624,pixel625,pixel626,pixel627,pixel628,pixel629,pixel630,pixel631,pixel632,pixel633,pixel634,pixel635,pixel636,pixel637,pixel638,pixel639,pixel640,pixel641,pixel642,pixel643,pixel644,pixel645,pixel646,pixel647,pixel648,pixel649,pixel650,pixel651,pixel652,pixel653,pixel654,pixel655,pixel656,pixel657,pixel658,pixel659,pixel660,pixel661,pixel662,pixel663,pixel664,pixel665,pixel666,pixel667,pixel668,pixel669,pixel670,pixel671,pixel672,pixel673,pixel674,pixel675,pixel676,pixel677,pixel678,pixel679,pixel680,pixel681,pixel682,pixel683,pixel684,pixel685,pixel686,pixel687,pixel688,pixel689,pixel690,pixel691,pixel692,pixel693,pixel694,pixel695,pixel696,pixel697,pixel698,pixel699,pixel700,pixel701,pixel702,pixel703,pixel704,pixel705,pixel706,pixel707,pixel708,pixel709,pixel710,pixel711,pixel712,pixel713,pixel714,pixel715,pixel716,pixel717,pixel718,pixel719,pixel720,pixel721,pixel722,pixel723,pixel724,pixel725,pixel726,pixel727,pixel728,pixel729,pixel730,pixel731,pixel732,pixel733,pixel734,pixel735,pixel736,pixel737,pixel738,pixel739,pixel740,pixel741,pixel742,pixel743,pixel744,pixel745,pixel746,pixel747,pixel748,pixel749,pixel750,pixel751,pixel752,pixel753,pixel754,pixel755,pixel756,pixel757,pixel758,pixel759,pixel760,pixel761,pixel762,pixel763,pixel764,pixel765,pixel766,pixel767,pixel768,pixel769,pixel770,pixel771,pixel772,pixel773,pixel774,pixel775,pixel776,pixel777,pixel778,pixel779,pixel780,pixel781,pixel782,pixel783,pixel784\n",
            "\n",
            "Each subsequent line (data points) look like this:\n",
            "3,107,118,127,134,139,143,146,150,153,156,158,160,163,165,159,166,168,170,170,171,171,171,172,171,171,170,170,169,111,121,129,135,141,144,148,151,154,157,160,163,164,170,119,152,171,171,170,171,172,172,172,172,172,171,171,170,113,123,131,137,142,145,150,152,155,158,161,163,164,172,105,142,170,171,171,171,172,172,173,173,172,171,171,171,116,125,133,139,143,146,151,153,156,159,162,163,167,167,95,144,171,172,172,172,172,172,173,173,173,172,172,171,117,126,134,140,145,149,153,156,158,161,163,164,175,156,87,154,172,173,173,173,173,173,174,174,174,173,172,172,119,128,136,142,146,150,153,156,159,163,165,164,184,148,89,164,172,174,174,174,174,175,175,174,175,174,173,173,122,130,138,143,147,150,154,158,162,165,166,172,181,128,94,170,173,175,174,175,176,177,177,177,177,175,175,174,122,132,139,145,149,152,156,160,163,165,166,181,172,103,113,175,176,178,178,179,179,179,179,178,179,177,175,174,125,134,141,147,150,153,157,161,164,167,168,184,179,116,126,165,176,179,180,180,181,180,180,180,179,178,177,176,128,135,142,148,152,154,158,162,165,168,170,187,180,156,161,124,143,179,178,178,181,182,181,180,181,180,179,179,129,136,144,150,153,155,159,163,166,169,172,187,184,153,102,117,110,175,169,154,182,183,183,182,182,181,181,179,131,138,145,150,155,157,161,165,168,174,190,189,175,146,94,97,113,151,158,129,184,184,184,184,183,183,182,180,131,139,146,151,155,159,163,167,175,182,179,171,159,114,102,89,121,136,136,96,172,186,186,185,185,184,182,181,131,140,147,154,157,160,164,179,186,191,187,180,157,100,88,84,108,111,126,90,120,186,187,187,186,185,184,182,133,141,149,155,158,160,174,201,189,165,151,143,146,120,87,78,87,76,108,98,96,181,188,187,186,186,185,183,133,141,150,156,160,161,179,197,174,135,99,72,95,134,97,72,74,68,116,105,108,187,189,187,187,186,186,185,134,143,151,156,161,163,179,194,156,110,74,42,52,139,94,67,75,75,118,106,129,189,191,190,188,188,187,186,135,144,152,158,163,163,177,193,161,122,84,43,71,134,81,57,71,88,112,98,157,193,193,192,190,190,189,188,136,144,152,158,162,163,176,192,164,128,98,62,60,100,71,76,96,101,105,95,174,195,194,194,194,193,191,190,137,145,152,159,164,165,178,191,164,135,113,82,59,87,98,111,120,108,97,108,190,196,195,195,194,193,193,192,139,146,154,160,164,165,175,186,163,139,112,85,67,102,126,133,126,105,104,176,197,198,197,196,195,195,194,193,138,147,155,161,165,167,172,186,163,137,107,87,76,106,122,125,117,96,156,199,199,200,198,196,196,195,195,194,139,148,156,163,166,168,172,180,158,131,108,99,86,108,118,116,103,107,191,202,201,200,200,200,199,197,198,196,140,149,157,164,168,167,177,178,155,131,118,105,87,100,106,100,96,164,202,202,202,202,202,201,200,199,199,198,140,150,157,165,167,170,181,175,152,130,115,98,82,85,90,99,165,202,203,204,203,203,202,202,201,201,200,200,142,150,159,165,170,191,173,157,144,119,97,84,79,79,91,172,202,203,203,205,204,204,204,203,202,202,201,200,142,151,160,165,188,190,187,150,119,109,85,79,79,78,137,203,205,206,206,207,207,206,206,204,205,204,203,202,142,151,160,172,196,188,188,190,135,96,86,77,77,79,176,205,207,207,207,207,207,207,206,206,206,204,203,202\n",
            "\n"
          ]
        }
      ]
    },
    {
      "cell_type": "code",
      "source": [
        "# printing the data from training data\n",
        "pd.read_csv(TRAINING_DATA).head()"
      ],
      "metadata": {
        "colab": {
          "base_uri": "https://localhost:8080/",
          "height": 299
        },
        "id": "2MMlX6wMchQ9",
        "outputId": "54514051-ef4b-4bf7-da77-273dbc681e25"
      },
      "execution_count": null,
      "outputs": [
        {
          "output_type": "execute_result",
          "data": {
            "text/plain": [
              "   label  pixel1  pixel2  pixel3  pixel4  pixel5  pixel6  pixel7  pixel8  \\\n",
              "0      3     107     118     127     134     139     143     146     150   \n",
              "1      6     155     157     156     156     156     157     156     158   \n",
              "2      2     187     188     188     187     187     186     187     188   \n",
              "3      2     211     211     212     212     211     210     211     210   \n",
              "4     13     164     167     170     172     176     179     180     184   \n",
              "\n",
              "   pixel9  ...  pixel775  pixel776  pixel777  pixel778  pixel779  pixel780  \\\n",
              "0     153  ...       207       207       207       207       206       206   \n",
              "1     158  ...        69       149       128        87        94       163   \n",
              "2     187  ...       202       201       200       199       198       199   \n",
              "3     210  ...       235       234       233       231       230       226   \n",
              "4     185  ...        92       105       105       108       133       163   \n",
              "\n",
              "   pixel781  pixel782  pixel783  pixel784  \n",
              "0       206       204       203       202  \n",
              "1       175       103       135       149  \n",
              "2       198       195       194       195  \n",
              "3       225       222       229       163  \n",
              "4       157       163       164       179  \n",
              "\n",
              "[5 rows x 785 columns]"
            ],
            "text/html": [
              "\n",
              "  <div id=\"df-80f06dd6-c24a-4945-bf49-e0d732a6de0c\">\n",
              "    <div class=\"colab-df-container\">\n",
              "      <div>\n",
              "<style scoped>\n",
              "    .dataframe tbody tr th:only-of-type {\n",
              "        vertical-align: middle;\n",
              "    }\n",
              "\n",
              "    .dataframe tbody tr th {\n",
              "        vertical-align: top;\n",
              "    }\n",
              "\n",
              "    .dataframe thead th {\n",
              "        text-align: right;\n",
              "    }\n",
              "</style>\n",
              "<table border=\"1\" class=\"dataframe\">\n",
              "  <thead>\n",
              "    <tr style=\"text-align: right;\">\n",
              "      <th></th>\n",
              "      <th>label</th>\n",
              "      <th>pixel1</th>\n",
              "      <th>pixel2</th>\n",
              "      <th>pixel3</th>\n",
              "      <th>pixel4</th>\n",
              "      <th>pixel5</th>\n",
              "      <th>pixel6</th>\n",
              "      <th>pixel7</th>\n",
              "      <th>pixel8</th>\n",
              "      <th>pixel9</th>\n",
              "      <th>...</th>\n",
              "      <th>pixel775</th>\n",
              "      <th>pixel776</th>\n",
              "      <th>pixel777</th>\n",
              "      <th>pixel778</th>\n",
              "      <th>pixel779</th>\n",
              "      <th>pixel780</th>\n",
              "      <th>pixel781</th>\n",
              "      <th>pixel782</th>\n",
              "      <th>pixel783</th>\n",
              "      <th>pixel784</th>\n",
              "    </tr>\n",
              "  </thead>\n",
              "  <tbody>\n",
              "    <tr>\n",
              "      <th>0</th>\n",
              "      <td>3</td>\n",
              "      <td>107</td>\n",
              "      <td>118</td>\n",
              "      <td>127</td>\n",
              "      <td>134</td>\n",
              "      <td>139</td>\n",
              "      <td>143</td>\n",
              "      <td>146</td>\n",
              "      <td>150</td>\n",
              "      <td>153</td>\n",
              "      <td>...</td>\n",
              "      <td>207</td>\n",
              "      <td>207</td>\n",
              "      <td>207</td>\n",
              "      <td>207</td>\n",
              "      <td>206</td>\n",
              "      <td>206</td>\n",
              "      <td>206</td>\n",
              "      <td>204</td>\n",
              "      <td>203</td>\n",
              "      <td>202</td>\n",
              "    </tr>\n",
              "    <tr>\n",
              "      <th>1</th>\n",
              "      <td>6</td>\n",
              "      <td>155</td>\n",
              "      <td>157</td>\n",
              "      <td>156</td>\n",
              "      <td>156</td>\n",
              "      <td>156</td>\n",
              "      <td>157</td>\n",
              "      <td>156</td>\n",
              "      <td>158</td>\n",
              "      <td>158</td>\n",
              "      <td>...</td>\n",
              "      <td>69</td>\n",
              "      <td>149</td>\n",
              "      <td>128</td>\n",
              "      <td>87</td>\n",
              "      <td>94</td>\n",
              "      <td>163</td>\n",
              "      <td>175</td>\n",
              "      <td>103</td>\n",
              "      <td>135</td>\n",
              "      <td>149</td>\n",
              "    </tr>\n",
              "    <tr>\n",
              "      <th>2</th>\n",
              "      <td>2</td>\n",
              "      <td>187</td>\n",
              "      <td>188</td>\n",
              "      <td>188</td>\n",
              "      <td>187</td>\n",
              "      <td>187</td>\n",
              "      <td>186</td>\n",
              "      <td>187</td>\n",
              "      <td>188</td>\n",
              "      <td>187</td>\n",
              "      <td>...</td>\n",
              "      <td>202</td>\n",
              "      <td>201</td>\n",
              "      <td>200</td>\n",
              "      <td>199</td>\n",
              "      <td>198</td>\n",
              "      <td>199</td>\n",
              "      <td>198</td>\n",
              "      <td>195</td>\n",
              "      <td>194</td>\n",
              "      <td>195</td>\n",
              "    </tr>\n",
              "    <tr>\n",
              "      <th>3</th>\n",
              "      <td>2</td>\n",
              "      <td>211</td>\n",
              "      <td>211</td>\n",
              "      <td>212</td>\n",
              "      <td>212</td>\n",
              "      <td>211</td>\n",
              "      <td>210</td>\n",
              "      <td>211</td>\n",
              "      <td>210</td>\n",
              "      <td>210</td>\n",
              "      <td>...</td>\n",
              "      <td>235</td>\n",
              "      <td>234</td>\n",
              "      <td>233</td>\n",
              "      <td>231</td>\n",
              "      <td>230</td>\n",
              "      <td>226</td>\n",
              "      <td>225</td>\n",
              "      <td>222</td>\n",
              "      <td>229</td>\n",
              "      <td>163</td>\n",
              "    </tr>\n",
              "    <tr>\n",
              "      <th>4</th>\n",
              "      <td>13</td>\n",
              "      <td>164</td>\n",
              "      <td>167</td>\n",
              "      <td>170</td>\n",
              "      <td>172</td>\n",
              "      <td>176</td>\n",
              "      <td>179</td>\n",
              "      <td>180</td>\n",
              "      <td>184</td>\n",
              "      <td>185</td>\n",
              "      <td>...</td>\n",
              "      <td>92</td>\n",
              "      <td>105</td>\n",
              "      <td>105</td>\n",
              "      <td>108</td>\n",
              "      <td>133</td>\n",
              "      <td>163</td>\n",
              "      <td>157</td>\n",
              "      <td>163</td>\n",
              "      <td>164</td>\n",
              "      <td>179</td>\n",
              "    </tr>\n",
              "  </tbody>\n",
              "</table>\n",
              "<p>5 rows × 785 columns</p>\n",
              "</div>\n",
              "      <button class=\"colab-df-convert\" onclick=\"convertToInteractive('df-80f06dd6-c24a-4945-bf49-e0d732a6de0c')\"\n",
              "              title=\"Convert this dataframe to an interactive table.\"\n",
              "              style=\"display:none;\">\n",
              "        \n",
              "  <svg xmlns=\"http://www.w3.org/2000/svg\" height=\"24px\"viewBox=\"0 0 24 24\"\n",
              "       width=\"24px\">\n",
              "    <path d=\"M0 0h24v24H0V0z\" fill=\"none\"/>\n",
              "    <path d=\"M18.56 5.44l.94 2.06.94-2.06 2.06-.94-2.06-.94-.94-2.06-.94 2.06-2.06.94zm-11 1L8.5 8.5l.94-2.06 2.06-.94-2.06-.94L8.5 2.5l-.94 2.06-2.06.94zm10 10l.94 2.06.94-2.06 2.06-.94-2.06-.94-.94-2.06-.94 2.06-2.06.94z\"/><path d=\"M17.41 7.96l-1.37-1.37c-.4-.4-.92-.59-1.43-.59-.52 0-1.04.2-1.43.59L10.3 9.45l-7.72 7.72c-.78.78-.78 2.05 0 2.83L4 21.41c.39.39.9.59 1.41.59.51 0 1.02-.2 1.41-.59l7.78-7.78 2.81-2.81c.8-.78.8-2.07 0-2.86zM5.41 20L4 18.59l7.72-7.72 1.47 1.35L5.41 20z\"/>\n",
              "  </svg>\n",
              "      </button>\n",
              "      \n",
              "  <style>\n",
              "    .colab-df-container {\n",
              "      display:flex;\n",
              "      flex-wrap:wrap;\n",
              "      gap: 12px;\n",
              "    }\n",
              "\n",
              "    .colab-df-convert {\n",
              "      background-color: #E8F0FE;\n",
              "      border: none;\n",
              "      border-radius: 50%;\n",
              "      cursor: pointer;\n",
              "      display: none;\n",
              "      fill: #1967D2;\n",
              "      height: 32px;\n",
              "      padding: 0 0 0 0;\n",
              "      width: 32px;\n",
              "    }\n",
              "\n",
              "    .colab-df-convert:hover {\n",
              "      background-color: #E2EBFA;\n",
              "      box-shadow: 0px 1px 2px rgba(60, 64, 67, 0.3), 0px 1px 3px 1px rgba(60, 64, 67, 0.15);\n",
              "      fill: #174EA6;\n",
              "    }\n",
              "\n",
              "    [theme=dark] .colab-df-convert {\n",
              "      background-color: #3B4455;\n",
              "      fill: #D2E3FC;\n",
              "    }\n",
              "\n",
              "    [theme=dark] .colab-df-convert:hover {\n",
              "      background-color: #434B5C;\n",
              "      box-shadow: 0px 1px 3px 1px rgba(0, 0, 0, 0.15);\n",
              "      filter: drop-shadow(0px 1px 2px rgba(0, 0, 0, 0.3));\n",
              "      fill: #FFFFFF;\n",
              "    }\n",
              "  </style>\n",
              "\n",
              "      <script>\n",
              "        const buttonEl =\n",
              "          document.querySelector('#df-80f06dd6-c24a-4945-bf49-e0d732a6de0c button.colab-df-convert');\n",
              "        buttonEl.style.display =\n",
              "          google.colab.kernel.accessAllowed ? 'block' : 'none';\n",
              "\n",
              "        async function convertToInteractive(key) {\n",
              "          const element = document.querySelector('#df-80f06dd6-c24a-4945-bf49-e0d732a6de0c');\n",
              "          const dataTable =\n",
              "            await google.colab.kernel.invokeFunction('convertToInteractive',\n",
              "                                                     [key], {});\n",
              "          if (!dataTable) return;\n",
              "\n",
              "          const docLinkHtml = 'Like what you see? Visit the ' +\n",
              "            '<a target=\"_blank\" href=https://colab.research.google.com/notebooks/data_table.ipynb>data table notebook</a>'\n",
              "            + ' to learn more about interactive tables.';\n",
              "          element.innerHTML = '';\n",
              "          dataTable['output_type'] = 'display_data';\n",
              "          await google.colab.output.renderOutput(dataTable, element);\n",
              "          const docLink = document.createElement('div');\n",
              "          docLink.innerHTML = docLinkHtml;\n",
              "          element.appendChild(docLink);\n",
              "        }\n",
              "      </script>\n",
              "    </div>\n",
              "  </div>\n",
              "  "
            ]
          },
          "metadata": {},
          "execution_count": 11
        }
      ]
    },
    {
      "cell_type": "code",
      "source": [
        "#To find Corrupted files \n",
        "#isna() detect the presence of NULL or NA values\n",
        "print(\"Corrupted labels and pixels in train dataset: \", pd.read_csv(TRAINING_DATA).isna().sum().sum(), '\\n'\n",
        "        \"Corrupted labels and pixels in validation dataset: \", pd.read_csv(VALIDATION_DATA).isna().sum().sum())"
      ],
      "metadata": {
        "colab": {
          "base_uri": "https://localhost:8080/"
        },
        "id": "YPHhl7aFPNZl",
        "outputId": "df19eb12-d7f4-4be9-9500-cffcd4150791"
      },
      "execution_count": null,
      "outputs": [
        {
          "output_type": "stream",
          "name": "stdout",
          "text": [
            "Corrupted labels and pixels in train dataset:  0 \n",
            "Corrupted labels and pixels in validation dataset:  0\n"
          ]
        }
      ]
    },
    {
      "cell_type": "code",
      "source": [
        "#Parsing the dataset from input\n",
        "def parse_data_from_input(filename):\n",
        "  with open(filename) as file:\n",
        "\n",
        "    # csv.reader can be iterated and in each iteration it returns one line\n",
        "    csv_Reader = csv.reader(file, delimiter = ',')\n",
        "    # header is skipped here\n",
        "    next(csv_Reader)\n",
        "\n",
        "    init_labels_array = []\n",
        "    init_images_array = []\n",
        "    for row in csv_Reader:\n",
        "      labels = np.array(row[0]).astype('float64')\n",
        "      images = np.array(row[1:]).reshape(28, 28).astype('float64')\n",
        "\n",
        "      init_labels_array.append(labels)\n",
        "      init_images_array.append(images)\n",
        "    \n",
        "    labels = np.array(init_labels_array)\n",
        "    images = np.array(init_images_array)\n",
        "    \n",
        "    return images, labels"
      ],
      "metadata": {
        "id": "LI3jdfZIikgb"
      },
      "execution_count": null,
      "outputs": []
    },
    {
      "cell_type": "code",
      "source": [
        "training_Images, training_Labels = parse_data_from_input(TRAINING_DATA)\n",
        "validation_Images, validation_Labels = parse_data_from_input(VALIDATION_DATA)\n",
        "\n",
        "print(f\"Shape of Training images: {training_Images.shape}\")\n",
        "print(f\"Shape of Training labels: {training_Labels.shape}\")\n",
        "print(f\"Shape of Validation images: {validation_Images.shape}\")\n",
        "print(f\"Shape of Validation labels: {validation_Labels.shape}\")"
      ],
      "metadata": {
        "colab": {
          "base_uri": "https://localhost:8080/"
        },
        "id": "937g1qPRjALc",
        "outputId": "117b042c-fc13-48da-84c0-fc2783cf9140"
      },
      "execution_count": null,
      "outputs": [
        {
          "output_type": "stream",
          "name": "stdout",
          "text": [
            "Shape of Training images: (27455, 28, 28)\n",
            "Shape of Training labels: (27455,)\n",
            "Shape of Validation images: (7172, 28, 28)\n",
            "Shape of Validation labels: (7172,)\n"
          ]
        }
      ]
    },
    {
      "cell_type": "code",
      "source": [
        "# Plot a sample of 10 images from the training set\n",
        "def plot_categories(training_Images, training_Labels):\n",
        "  fig, axes = plt.subplots(1, 10, figsize=(16, 15))\n",
        "  axes = axes.flatten()\n",
        "  letters = list(string.ascii_lowercase)\n",
        "\n",
        "  for k in range(10):\n",
        "    img = training_Images[k]\n",
        "    img = np.expand_dims(img, axis=-1)\n",
        "    img = array_to_img(img)\n",
        "    ax = axes[k]\n",
        "    ax.imshow(img, cmap=\"Greys_r\")\n",
        "    ax.set_title(f\"{letters[int(training_Labels[k])]}\")\n",
        "    ax.set_axis_off()\n",
        "\n",
        "  plt.tight_layout()\n",
        "  plt.show()\n",
        "\n",
        "plot_categories(training_Images, training_Labels)"
      ],
      "metadata": {
        "colab": {
          "base_uri": "https://localhost:8080/",
          "height": 146
        },
        "id": "ynjy2qcNj7nX",
        "outputId": "4b6227e3-d1d4-4fd6-c82b-7d09aeabc7cd"
      },
      "execution_count": null,
      "outputs": [
        {
          "output_type": "display_data",
          "data": {
            "text/plain": [
              "<Figure size 1152x1080 with 10 Axes>"
            ],
            "image/png": "[encoded data removed]"
          },
          "metadata": {
            "needs_background": "light"
          }
        }
      ]
    },
    {
      "cell_type": "code",
      "source": [
        "train_df = pd.read_csv('../content/sign_mnist_train/sign_mnist_train.csv')\n",
        "train_df.head()"
      ],
      "metadata": {
        "colab": {
          "base_uri": "https://localhost:8080/",
          "height": 299
        },
        "id": "EiGs1zB_AP_9",
        "outputId": "7dc2b046-e46d-4d04-a150-3cd55b1fb52d"
      },
      "execution_count": null,
      "outputs": [
        {
          "output_type": "execute_result",
          "data": {
            "text/plain": [
              "   label  pixel1  pixel2  pixel3  pixel4  pixel5  pixel6  pixel7  pixel8  \\\n",
              "0      3     107     118     127     134     139     143     146     150   \n",
              "1      6     155     157     156     156     156     157     156     158   \n",
              "2      2     187     188     188     187     187     186     187     188   \n",
              "3      2     211     211     212     212     211     210     211     210   \n",
              "4     13     164     167     170     172     176     179     180     184   \n",
              "\n",
              "   pixel9  ...  pixel775  pixel776  pixel777  pixel778  pixel779  pixel780  \\\n",
              "0     153  ...       207       207       207       207       206       206   \n",
              "1     158  ...        69       149       128        87        94       163   \n",
              "2     187  ...       202       201       200       199       198       199   \n",
              "3     210  ...       235       234       233       231       230       226   \n",
              "4     185  ...        92       105       105       108       133       163   \n",
              "\n",
              "   pixel781  pixel782  pixel783  pixel784  \n",
              "0       206       204       203       202  \n",
              "1       175       103       135       149  \n",
              "2       198       195       194       195  \n",
              "3       225       222       229       163  \n",
              "4       157       163       164       179  \n",
              "\n",
              "[5 rows x 785 columns]"
            ],
            "text/html": [
              "\n",
              "  <div id=\"df-46f22b29-e22a-4b0b-aec7-dde4e7ecb37f\">\n",
              "    <div class=\"colab-df-container\">\n",
              "      <div>\n",
              "<style scoped>\n",
              "    .dataframe tbody tr th:only-of-type {\n",
              "        vertical-align: middle;\n",
              "    }\n",
              "\n",
              "    .dataframe tbody tr th {\n",
              "        vertical-align: top;\n",
              "    }\n",
              "\n",
              "    .dataframe thead th {\n",
              "        text-align: right;\n",
              "    }\n",
              "</style>\n",
              "<table border=\"1\" class=\"dataframe\">\n",
              "  <thead>\n",
              "    <tr style=\"text-align: right;\">\n",
              "      <th></th>\n",
              "      <th>label</th>\n",
              "      <th>pixel1</th>\n",
              "      <th>pixel2</th>\n",
              "      <th>pixel3</th>\n",
              "      <th>pixel4</th>\n",
              "      <th>pixel5</th>\n",
              "      <th>pixel6</th>\n",
              "      <th>pixel7</th>\n",
              "      <th>pixel8</th>\n",
              "      <th>pixel9</th>\n",
              "      <th>...</th>\n",
              "      <th>pixel775</th>\n",
              "      <th>pixel776</th>\n",
              "      <th>pixel777</th>\n",
              "      <th>pixel778</th>\n",
              "      <th>pixel779</th>\n",
              "      <th>pixel780</th>\n",
              "      <th>pixel781</th>\n",
              "      <th>pixel782</th>\n",
              "      <th>pixel783</th>\n",
              "      <th>pixel784</th>\n",
              "    </tr>\n",
              "  </thead>\n",
              "  <tbody>\n",
              "    <tr>\n",
              "      <th>0</th>\n",
              "      <td>3</td>\n",
              "      <td>107</td>\n",
              "      <td>118</td>\n",
              "      <td>127</td>\n",
              "      <td>134</td>\n",
              "      <td>139</td>\n",
              "      <td>143</td>\n",
              "      <td>146</td>\n",
              "      <td>150</td>\n",
              "      <td>153</td>\n",
              "      <td>...</td>\n",
              "      <td>207</td>\n",
              "      <td>207</td>\n",
              "      <td>207</td>\n",
              "      <td>207</td>\n",
              "      <td>206</td>\n",
              "      <td>206</td>\n",
              "      <td>206</td>\n",
              "      <td>204</td>\n",
              "      <td>203</td>\n",
              "      <td>202</td>\n",
              "    </tr>\n",
              "    <tr>\n",
              "      <th>1</th>\n",
              "      <td>6</td>\n",
              "      <td>155</td>\n",
              "      <td>157</td>\n",
              "      <td>156</td>\n",
              "      <td>156</td>\n",
              "      <td>156</td>\n",
              "      <td>157</td>\n",
              "      <td>156</td>\n",
              "      <td>158</td>\n",
              "      <td>158</td>\n",
              "      <td>...</td>\n",
              "      <td>69</td>\n",
              "      <td>149</td>\n",
              "      <td>128</td>\n",
              "      <td>87</td>\n",
              "      <td>94</td>\n",
              "      <td>163</td>\n",
              "      <td>175</td>\n",
              "      <td>103</td>\n",
              "      <td>135</td>\n",
              "      <td>149</td>\n",
              "    </tr>\n",
              "    <tr>\n",
              "      <th>2</th>\n",
              "      <td>2</td>\n",
              "      <td>187</td>\n",
              "      <td>188</td>\n",
              "      <td>188</td>\n",
              "      <td>187</td>\n",
              "      <td>187</td>\n",
              "      <td>186</td>\n",
              "      <td>187</td>\n",
              "      <td>188</td>\n",
              "      <td>187</td>\n",
              "      <td>...</td>\n",
              "      <td>202</td>\n",
              "      <td>201</td>\n",
              "      <td>200</td>\n",
              "      <td>199</td>\n",
              "      <td>198</td>\n",
              "      <td>199</td>\n",
              "      <td>198</td>\n",
              "      <td>195</td>\n",
              "      <td>194</td>\n",
              "      <td>195</td>\n",
              "    </tr>\n",
              "    <tr>\n",
              "      <th>3</th>\n",
              "      <td>2</td>\n",
              "      <td>211</td>\n",
              "      <td>211</td>\n",
              "      <td>212</td>\n",
              "      <td>212</td>\n",
              "      <td>211</td>\n",
              "      <td>210</td>\n",
              "      <td>211</td>\n",
              "      <td>210</td>\n",
              "      <td>210</td>\n",
              "      <td>...</td>\n",
              "      <td>235</td>\n",
              "      <td>234</td>\n",
              "      <td>233</td>\n",
              "      <td>231</td>\n",
              "      <td>230</td>\n",
              "      <td>226</td>\n",
              "      <td>225</td>\n",
              "      <td>222</td>\n",
              "      <td>229</td>\n",
              "      <td>163</td>\n",
              "    </tr>\n",
              "    <tr>\n",
              "      <th>4</th>\n",
              "      <td>13</td>\n",
              "      <td>164</td>\n",
              "      <td>167</td>\n",
              "      <td>170</td>\n",
              "      <td>172</td>\n",
              "      <td>176</td>\n",
              "      <td>179</td>\n",
              "      <td>180</td>\n",
              "      <td>184</td>\n",
              "      <td>185</td>\n",
              "      <td>...</td>\n",
              "      <td>92</td>\n",
              "      <td>105</td>\n",
              "      <td>105</td>\n",
              "      <td>108</td>\n",
              "      <td>133</td>\n",
              "      <td>163</td>\n",
              "      <td>157</td>\n",
              "      <td>163</td>\n",
              "      <td>164</td>\n",
              "      <td>179</td>\n",
              "    </tr>\n",
              "  </tbody>\n",
              "</table>\n",
              "<p>5 rows × 785 columns</p>\n",
              "</div>\n",
              "      <button class=\"colab-df-convert\" onclick=\"convertToInteractive('df-46f22b29-e22a-4b0b-aec7-dde4e7ecb37f')\"\n",
              "              title=\"Convert this dataframe to an interactive table.\"\n",
              "              style=\"display:none;\">\n",
              "        \n",
              "  <svg xmlns=\"http://www.w3.org/2000/svg\" height=\"24px\"viewBox=\"0 0 24 24\"\n",
              "       width=\"24px\">\n",
              "    <path d=\"M0 0h24v24H0V0z\" fill=\"none\"/>\n",
              "    <path d=\"M18.56 5.44l.94 2.06.94-2.06 2.06-.94-2.06-.94-.94-2.06-.94 2.06-2.06.94zm-11 1L8.5 8.5l.94-2.06 2.06-.94-2.06-.94L8.5 2.5l-.94 2.06-2.06.94zm10 10l.94 2.06.94-2.06 2.06-.94-2.06-.94-.94-2.06-.94 2.06-2.06.94z\"/><path d=\"M17.41 7.96l-1.37-1.37c-.4-.4-.92-.59-1.43-.59-.52 0-1.04.2-1.43.59L10.3 9.45l-7.72 7.72c-.78.78-.78 2.05 0 2.83L4 21.41c.39.39.9.59 1.41.59.51 0 1.02-.2 1.41-.59l7.78-7.78 2.81-2.81c.8-.78.8-2.07 0-2.86zM5.41 20L4 18.59l7.72-7.72 1.47 1.35L5.41 20z\"/>\n",
              "  </svg>\n",
              "      </button>\n",
              "      \n",
              "  <style>\n",
              "    .colab-df-container {\n",
              "      display:flex;\n",
              "      flex-wrap:wrap;\n",
              "      gap: 12px;\n",
              "    }\n",
              "\n",
              "    .colab-df-convert {\n",
              "      background-color: #E8F0FE;\n",
              "      border: none;\n",
              "      border-radius: 50%;\n",
              "      cursor: pointer;\n",
              "      display: none;\n",
              "      fill: #1967D2;\n",
              "      height: 32px;\n",
              "      padding: 0 0 0 0;\n",
              "      width: 32px;\n",
              "    }\n",
              "\n",
              "    .colab-df-convert:hover {\n",
              "      background-color: #E2EBFA;\n",
              "      box-shadow: 0px 1px 2px rgba(60, 64, 67, 0.3), 0px 1px 3px 1px rgba(60, 64, 67, 0.15);\n",
              "      fill: #174EA6;\n",
              "    }\n",
              "\n",
              "    [theme=dark] .colab-df-convert {\n",
              "      background-color: #3B4455;\n",
              "      fill: #D2E3FC;\n",
              "    }\n",
              "\n",
              "    [theme=dark] .colab-df-convert:hover {\n",
              "      background-color: #434B5C;\n",
              "      box-shadow: 0px 1px 3px 1px rgba(0, 0, 0, 0.15);\n",
              "      filter: drop-shadow(0px 1px 2px rgba(0, 0, 0, 0.3));\n",
              "      fill: #FFFFFF;\n",
              "    }\n",
              "  </style>\n",
              "\n",
              "      <script>\n",
              "        const buttonEl =\n",
              "          document.querySelector('#df-46f22b29-e22a-4b0b-aec7-dde4e7ecb37f button.colab-df-convert');\n",
              "        buttonEl.style.display =\n",
              "          google.colab.kernel.accessAllowed ? 'block' : 'none';\n",
              "\n",
              "        async function convertToInteractive(key) {\n",
              "          const element = document.querySelector('#df-46f22b29-e22a-4b0b-aec7-dde4e7ecb37f');\n",
              "          const dataTable =\n",
              "            await google.colab.kernel.invokeFunction('convertToInteractive',\n",
              "                                                     [key], {});\n",
              "          if (!dataTable) return;\n",
              "\n",
              "          const docLinkHtml = 'Like what you see? Visit the ' +\n",
              "            '<a target=\"_blank\" href=https://colab.research.google.com/notebooks/data_table.ipynb>data table notebook</a>'\n",
              "            + ' to learn more about interactive tables.';\n",
              "          element.innerHTML = '';\n",
              "          dataTable['output_type'] = 'display_data';\n",
              "          await google.colab.output.renderOutput(dataTable, element);\n",
              "          const docLink = document.createElement('div');\n",
              "          docLink.innerHTML = docLinkHtml;\n",
              "          element.appendChild(docLink);\n",
              "        }\n",
              "      </script>\n",
              "    </div>\n",
              "  </div>\n",
              "  "
            ]
          },
          "metadata": {},
          "execution_count": 16
        }
      ]
    },
    {
      "cell_type": "code",
      "source": [
        "train_df.columns"
      ],
      "metadata": {
        "colab": {
          "base_uri": "https://localhost:8080/"
        },
        "id": "H-SRf9enAhAh",
        "outputId": "fa57d5eb-c07c-4cb5-9fce-4463dabdf598"
      },
      "execution_count": null,
      "outputs": [
        {
          "output_type": "execute_result",
          "data": {
            "text/plain": [
              "Index(['label', 'pixel1', 'pixel2', 'pixel3', 'pixel4', 'pixel5', 'pixel6',\n",
              "       'pixel7', 'pixel8', 'pixel9',\n",
              "       ...\n",
              "       'pixel775', 'pixel776', 'pixel777', 'pixel778', 'pixel779', 'pixel780',\n",
              "       'pixel781', 'pixel782', 'pixel783', 'pixel784'],\n",
              "      dtype='object', length=785)"
            ]
          },
          "metadata": {},
          "execution_count": 17
        }
      ]
    },
    {
      "cell_type": "code",
      "source": [
        "train_df.label.value_counts()"
      ],
      "metadata": {
        "colab": {
          "base_uri": "https://localhost:8080/"
        },
        "id": "5JljR5_EAi5j",
        "outputId": "ce84c783-0796-455f-f5c4-fce46d2b03af"
      },
      "execution_count": null,
      "outputs": [
        {
          "output_type": "execute_result",
          "data": {
            "text/plain": [
              "17    1294\n",
              "16    1279\n",
              "11    1241\n",
              "22    1225\n",
              "5     1204\n",
              "18    1199\n",
              "3     1196\n",
              "14    1196\n",
              "19    1186\n",
              "23    1164\n",
              "8     1162\n",
              "20    1161\n",
              "13    1151\n",
              "2     1144\n",
              "0     1126\n",
              "24    1118\n",
              "10    1114\n",
              "6     1090\n",
              "15    1088\n",
              "21    1082\n",
              "12    1055\n",
              "7     1013\n",
              "1     1010\n",
              "4      957\n",
              "Name: label, dtype: int64"
            ]
          },
          "metadata": {},
          "execution_count": 18
        }
      ]
    },
    {
      "cell_type": "code",
      "source": [
        "labels = train_df[\"label\"].value_counts().sort_index(ascending=True)"
      ],
      "metadata": {
        "id": "3s7vJH9XnFAt"
      },
      "execution_count": null,
      "outputs": []
    },
    {
      "cell_type": "code",
      "source": [
        "# Plot the labels and their corresponding images\n",
        "fig=px.bar(x=labels.index , y=labels.values,title=\"Labels and thier images\",\n",
        "       labels={\"x\":\"Label\",\"y\":\"Number of Images\"},\n",
        "       text=labels.values,\n",
        "       color_discrete_sequence=[\"#ccc\"],\n",
        "           \n",
        "      )\n",
        "fig.update_layout(title_x=.5,title_font_color=\"#fff\",title_font_size=20,paper_bgcolor=\"#334e5c\",font_color=\"#fff\",\n",
        "                 plot_bgcolor=\"#0C2D48\",\n",
        "                   xaxis = dict(\n",
        "                    tickmode = 'linear',\n",
        "                    ticktext= labels.index\n",
        "                     )\n",
        "                 )\n",
        "fig.update_yaxes(showgrid=False)\n",
        "fig.show()"
      ],
      "metadata": {
        "colab": {
          "base_uri": "https://localhost:8080/",
          "height": 542
        },
        "id": "wWFxv1NAm3bK",
        "outputId": "306151b5-a462-48d0-c2fa-2fa7079504a5"
      },
      "execution_count": null,
      "outputs": [
        {
          "output_type": "display_data",
          "data": {
            "text/html": [
              "<html>\n",
              "<head><meta charset=\"utf-8\" /></head>\n",
              "<body>\n",
              "    <div>            <script src=\"https://cdnjs.cloudflare.com/ajax/libs/mathjax/2.7.5/MathJax.js?config=TeX-AMS-MML_SVG\"></script><script type=\"text/javascript\">if (window.MathJax) {MathJax.Hub.Config({SVG: {font: \"STIX-Web\"}});}</script>                <script type=\"text/javascript\">window.PlotlyConfig = {MathJaxConfig: 'local'};</script>\n",
              "        <script src=\"https://cdn.plot.ly/plotly-2.8.3.min.js\"></script>                <div id=\"718b543c-edfa-4ed3-a9a6-5535129edab1\" class=\"plotly-graph-div\" style=\"height:525px; width:100%;\"></div>            <script type=\"text/javascript\">                                    window.PLOTLYENV=window.PLOTLYENV || {};                                    if (document.getElementById(\"718b543c-edfa-4ed3-a9a6-5535129edab1\")) {                    Plotly.newPlot(                        \"718b543c-edfa-4ed3-a9a6-5535129edab1\",                        [{\"alignmentgroup\":\"True\",\"hovertemplate\":\"Label=%{x}<br>Number of Images=%{y}<br>text=%{text}<extra></extra>\",\"legendgroup\":\"\",\"marker\":{\"color\":\"#ccc\",\"pattern\":{\"shape\":\"\"}},\"name\":\"\",\"offsetgroup\":\"\",\"orientation\":\"v\",\"showlegend\":false,\"text\":[1126.0,1010.0,1144.0,1196.0,957.0,1204.0,1090.0,1013.0,1162.0,1114.0,1241.0,1055.0,1151.0,1196.0,1088.0,1279.0,1294.0,1199.0,1186.0,1161.0,1082.0,1225.0,1164.0,1118.0],\"textposition\":\"auto\",\"x\":[0,1,2,3,4,5,6,7,8,10,11,12,13,14,15,16,17,18,19,20,21,22,23,24],\"xaxis\":\"x\",\"y\":[1126,1010,1144,1196,957,1204,1090,1013,1162,1114,1241,1055,1151,1196,1088,1279,1294,1199,1186,1161,1082,1225,1164,1118],\"yaxis\":\"y\",\"type\":\"bar\"}],                        {\"template\":{\"data\":{\"bar\":[{\"error_x\":{\"color\":\"#2a3f5f\"},\"error_y\":{\"color\":\"#2a3f5f\"},\"marker\":{\"line\":{\"color\":\"#E5ECF6\",\"width\":0.5},\"pattern\":{\"fillmode\":\"overlay\",\"size\":10,\"solidity\":0.2}},\"type\":\"bar\"}],\"barpolar\":[{\"marker\":{\"line\":{\"color\":\"#E5ECF6\",\"width\":0.5},\"pattern\":{\"fillmode\":\"overlay\",\"size\":10,\"solidity\":0.2}},\"type\":\"barpolar\"}],\"carpet\":[{\"aaxis\":{\"endlinecolor\":\"#2a3f5f\",\"gridcolor\":\"white\",\"linecolor\":\"white\",\"minorgridcolor\":\"white\",\"startlinecolor\":\"#2a3f5f\"},\"baxis\":{\"endlinecolor\":\"#2a3f5f\",\"gridcolor\":\"white\",\"linecolor\":\"white\",\"minorgridcolor\":\"white\",\"startlinecolor\":\"#2a3f5f\"},\"type\":\"carpet\"}],\"choropleth\":[{\"colorbar\":{\"outlinewidth\":0,\"ticks\":\"\"},\"type\":\"choropleth\"}],\"contour\":[{\"colorbar\":{\"outlinewidth\":0,\"ticks\":\"\"},\"colorscale\":[[0.0,\"#0d0887\"],[0.1111111111111111,\"#46039f\"],[0.2222222222222222,\"#7201a8\"],[0.3333333333333333,\"#9c179e\"],[0.4444444444444444,\"#bd3786\"],[0.5555555555555556,\"#d8576b\"],[0.6666666666666666,\"#ed7953\"],[0.7777777777777778,\"#fb9f3a\"],[0.8888888888888888,\"#fdca26\"],[1.0,\"#f0f921\"]],\"type\":\"contour\"}],\"contourcarpet\":[{\"colorbar\":{\"outlinewidth\":0,\"ticks\":\"\"},\"type\":\"contourcarpet\"}],\"heatmap\":[{\"colorbar\":{\"outlinewidth\":0,\"ticks\":\"\"},\"colorscale\":[[0.0,\"#0d0887\"],[0.1111111111111111,\"#46039f\"],[0.2222222222222222,\"#7201a8\"],[0.3333333333333333,\"#9c179e\"],[0.4444444444444444,\"#bd3786\"],[0.5555555555555556,\"#d8576b\"],[0.6666666666666666,\"#ed7953\"],[0.7777777777777778,\"#fb9f3a\"],[0.8888888888888888,\"#fdca26\"],[1.0,\"#f0f921\"]],\"type\":\"heatmap\"}],\"heatmapgl\":[{\"colorbar\":{\"outlinewidth\":0,\"ticks\":\"\"},\"colorscale\":[[0.0,\"#0d0887\"],[0.1111111111111111,\"#46039f\"],[0.2222222222222222,\"#7201a8\"],[0.3333333333333333,\"#9c179e\"],[0.4444444444444444,\"#bd3786\"],[0.5555555555555556,\"#d8576b\"],[0.6666666666666666,\"#ed7953\"],[0.7777777777777778,\"#fb9f3a\"],[0.8888888888888888,\"#fdca26\"],[1.0,\"#f0f921\"]],\"type\":\"heatmapgl\"}],\"histogram\":[{\"marker\":{\"pattern\":{\"fillmode\":\"overlay\",\"size\":10,\"solidity\":0.2}},\"type\":\"histogram\"}],\"histogram2d\":[{\"colorbar\":{\"outlinewidth\":0,\"ticks\":\"\"},\"colorscale\":[[0.0,\"#0d0887\"],[0.1111111111111111,\"#46039f\"],[0.2222222222222222,\"#7201a8\"],[0.3333333333333333,\"#9c179e\"],[0.4444444444444444,\"#bd3786\"],[0.5555555555555556,\"#d8576b\"],[0.6666666666666666,\"#ed7953\"],[0.7777777777777778,\"#fb9f3a\"],[0.8888888888888888,\"#fdca26\"],[1.0,\"#f0f921\"]],\"type\":\"histogram2d\"}],\"histogram2dcontour\":[{\"colorbar\":{\"outlinewidth\":0,\"ticks\":\"\"},\"colorscale\":[[0.0,\"#0d0887\"],[0.1111111111111111,\"#46039f\"],[0.2222222222222222,\"#7201a8\"],[0.3333333333333333,\"#9c179e\"],[0.4444444444444444,\"#bd3786\"],[0.5555555555555556,\"#d8576b\"],[0.6666666666666666,\"#ed7953\"],[0.7777777777777778,\"#fb9f3a\"],[0.8888888888888888,\"#fdca26\"],[1.0,\"#f0f921\"]],\"type\":\"histogram2dcontour\"}],\"mesh3d\":[{\"colorbar\":{\"outlinewidth\":0,\"ticks\":\"\"},\"type\":\"mesh3d\"}],\"parcoords\":[{\"line\":{\"colorbar\":{\"outlinewidth\":0,\"ticks\":\"\"}},\"type\":\"parcoords\"}],\"pie\":[{\"automargin\":true,\"type\":\"pie\"}],\"scatter\":[{\"marker\":{\"colorbar\":{\"outlinewidth\":0,\"ticks\":\"\"}},\"type\":\"scatter\"}],\"scatter3d\":[{\"line\":{\"colorbar\":{\"outlinewidth\":0,\"ticks\":\"\"}},\"marker\":{\"colorbar\":{\"outlinewidth\":0,\"ticks\":\"\"}},\"type\":\"scatter3d\"}],\"scattercarpet\":[{\"marker\":{\"colorbar\":{\"outlinewidth\":0,\"ticks\":\"\"}},\"type\":\"scattercarpet\"}],\"scattergeo\":[{\"marker\":{\"colorbar\":{\"outlinewidth\":0,\"ticks\":\"\"}},\"type\":\"scattergeo\"}],\"scattergl\":[{\"marker\":{\"colorbar\":{\"outlinewidth\":0,\"ticks\":\"\"}},\"type\":\"scattergl\"}],\"scattermapbox\":[{\"marker\":{\"colorbar\":{\"outlinewidth\":0,\"ticks\":\"\"}},\"type\":\"scattermapbox\"}],\"scatterpolar\":[{\"marker\":{\"colorbar\":{\"outlinewidth\":0,\"ticks\":\"\"}},\"type\":\"scatterpolar\"}],\"scatterpolargl\":[{\"marker\":{\"colorbar\":{\"outlinewidth\":0,\"ticks\":\"\"}},\"type\":\"scatterpolargl\"}],\"scatterternary\":[{\"marker\":{\"colorbar\":{\"outlinewidth\":0,\"ticks\":\"\"}},\"type\":\"scatterternary\"}],\"surface\":[{\"colorbar\":{\"outlinewidth\":0,\"ticks\":\"\"},\"colorscale\":[[0.0,\"#0d0887\"],[0.1111111111111111,\"#46039f\"],[0.2222222222222222,\"#7201a8\"],[0.3333333333333333,\"#9c179e\"],[0.4444444444444444,\"#bd3786\"],[0.5555555555555556,\"#d8576b\"],[0.6666666666666666,\"#ed7953\"],[0.7777777777777778,\"#fb9f3a\"],[0.8888888888888888,\"#fdca26\"],[1.0,\"#f0f921\"]],\"type\":\"surface\"}],\"table\":[{\"cells\":{\"fill\":{\"color\":\"#EBF0F8\"},\"line\":{\"color\":\"white\"}},\"header\":{\"fill\":{\"color\":\"#C8D4E3\"},\"line\":{\"color\":\"white\"}},\"type\":\"table\"}]},\"layout\":{\"annotationdefaults\":{\"arrowcolor\":\"#2a3f5f\",\"arrowhead\":0,\"arrowwidth\":1},\"autotypenumbers\":\"strict\",\"coloraxis\":{\"colorbar\":{\"outlinewidth\":0,\"ticks\":\"\"}},\"colorscale\":{\"diverging\":[[0,\"#8e0152\"],[0.1,\"#c51b7d\"],[0.2,\"#de77ae\"],[0.3,\"#f1b6da\"],[0.4,\"#fde0ef\"],[0.5,\"#f7f7f7\"],[0.6,\"#e6f5d0\"],[0.7,\"#b8e186\"],[0.8,\"#7fbc41\"],[0.9,\"#4d9221\"],[1,\"#276419\"]],\"sequential\":[[0.0,\"#0d0887\"],[0.1111111111111111,\"#46039f\"],[0.2222222222222222,\"#7201a8\"],[0.3333333333333333,\"#9c179e\"],[0.4444444444444444,\"#bd3786\"],[0.5555555555555556,\"#d8576b\"],[0.6666666666666666,\"#ed7953\"],[0.7777777777777778,\"#fb9f3a\"],[0.8888888888888888,\"#fdca26\"],[1.0,\"#f0f921\"]],\"sequentialminus\":[[0.0,\"#0d0887\"],[0.1111111111111111,\"#46039f\"],[0.2222222222222222,\"#7201a8\"],[0.3333333333333333,\"#9c179e\"],[0.4444444444444444,\"#bd3786\"],[0.5555555555555556,\"#d8576b\"],[0.6666666666666666,\"#ed7953\"],[0.7777777777777778,\"#fb9f3a\"],[0.8888888888888888,\"#fdca26\"],[1.0,\"#f0f921\"]]},\"colorway\":[\"#636efa\",\"#EF553B\",\"#00cc96\",\"#ab63fa\",\"#FFA15A\",\"#19d3f3\",\"#FF6692\",\"#B6E880\",\"#FF97FF\",\"#FECB52\"],\"font\":{\"color\":\"#2a3f5f\"},\"geo\":{\"bgcolor\":\"white\",\"lakecolor\":\"white\",\"landcolor\":\"#E5ECF6\",\"showlakes\":true,\"showland\":true,\"subunitcolor\":\"white\"},\"hoverlabel\":{\"align\":\"left\"},\"hovermode\":\"closest\",\"mapbox\":{\"style\":\"light\"},\"paper_bgcolor\":\"white\",\"plot_bgcolor\":\"#E5ECF6\",\"polar\":{\"angularaxis\":{\"gridcolor\":\"white\",\"linecolor\":\"white\",\"ticks\":\"\"},\"bgcolor\":\"#E5ECF6\",\"radialaxis\":{\"gridcolor\":\"white\",\"linecolor\":\"white\",\"ticks\":\"\"}},\"scene\":{\"xaxis\":{\"backgroundcolor\":\"#E5ECF6\",\"gridcolor\":\"white\",\"gridwidth\":2,\"linecolor\":\"white\",\"showbackground\":true,\"ticks\":\"\",\"zerolinecolor\":\"white\"},\"yaxis\":{\"backgroundcolor\":\"#E5ECF6\",\"gridcolor\":\"white\",\"gridwidth\":2,\"linecolor\":\"white\",\"showbackground\":true,\"ticks\":\"\",\"zerolinecolor\":\"white\"},\"zaxis\":{\"backgroundcolor\":\"#E5ECF6\",\"gridcolor\":\"white\",\"gridwidth\":2,\"linecolor\":\"white\",\"showbackground\":true,\"ticks\":\"\",\"zerolinecolor\":\"white\"}},\"shapedefaults\":{\"line\":{\"color\":\"#2a3f5f\"}},\"ternary\":{\"aaxis\":{\"gridcolor\":\"white\",\"linecolor\":\"white\",\"ticks\":\"\"},\"baxis\":{\"gridcolor\":\"white\",\"linecolor\":\"white\",\"ticks\":\"\"},\"bgcolor\":\"#E5ECF6\",\"caxis\":{\"gridcolor\":\"white\",\"linecolor\":\"white\",\"ticks\":\"\"}},\"title\":{\"x\":0.05},\"xaxis\":{\"automargin\":true,\"gridcolor\":\"white\",\"linecolor\":\"white\",\"ticks\":\"\",\"title\":{\"standoff\":15},\"zerolinecolor\":\"white\",\"zerolinewidth\":2},\"yaxis\":{\"automargin\":true,\"gridcolor\":\"white\",\"linecolor\":\"white\",\"ticks\":\"\",\"title\":{\"standoff\":15},\"zerolinecolor\":\"white\",\"zerolinewidth\":2}}},\"xaxis\":{\"anchor\":\"y\",\"domain\":[0.0,1.0],\"title\":{\"text\":\"Label\"},\"tickmode\":\"linear\",\"ticktext\":[0,1,2,3,4,5,6,7,8,10,11,12,13,14,15,16,17,18,19,20,21,22,23,24]},\"yaxis\":{\"anchor\":\"x\",\"domain\":[0.0,1.0],\"title\":{\"text\":\"Number of Images\"},\"showgrid\":false},\"legend\":{\"tracegroupgap\":0},\"title\":{\"text\":\"Labels and thier images\",\"font\":{\"color\":\"#fff\",\"size\":20},\"x\":0.5},\"barmode\":\"relative\",\"font\":{\"color\":\"#fff\"},\"paper_bgcolor\":\"#334e5c\",\"plot_bgcolor\":\"#0C2D48\"},                        {\"responsive\": true}                    ).then(function(){\n",
              "                            \n",
              "var gd = document.getElementById('718b543c-edfa-4ed3-a9a6-5535129edab1');\n",
              "var x = new MutationObserver(function (mutations, observer) {{\n",
              "        var display = window.getComputedStyle(gd).display;\n",
              "        if (!display || display === 'none') {{\n",
              "            console.log([gd, 'removed!']);\n",
              "            Plotly.purge(gd);\n",
              "            observer.disconnect();\n",
              "        }}\n",
              "}});\n",
              "\n",
              "// Listen for the removal of the full notebook cells\n",
              "var notebookContainer = gd.closest('#notebook-container');\n",
              "if (notebookContainer) {{\n",
              "    x.observe(notebookContainer, {childList: true});\n",
              "}}\n",
              "\n",
              "// Listen for the clearing of the current output cell\n",
              "var outputEl = gd.closest('.output');\n",
              "if (outputEl) {{\n",
              "    x.observe(outputEl, {childList: true});\n",
              "}}\n",
              "\n",
              "                        })                };                            </script>        </div>\n",
              "</body>\n",
              "</html>"
            ]
          },
          "metadata": {}
        }
      ]
    },
    {
      "cell_type": "code",
      "source": [
        "# Reducing learning rate\n",
        "learningRateReduction = ReduceLROnPlateau(monitor='loss', patience = 1, verbose=1,factor=0.75, min_lr=0.00000000001)"
      ],
      "metadata": {
        "id": "fyuOYMnnSo1T"
      },
      "execution_count": null,
      "outputs": []
    },
    {
      "cell_type": "code",
      "source": [
        "def train_vald_generators(training_Images, training_Labels, validation_Images, validation_Labels):\n",
        "    \n",
        "  # Addition of another dimension to the data for channel\n",
        "  # In this case, 1 channel since we are working with grayscale images\n",
        "  # For example, if array is (27455, 28, 28)\n",
        "  # We need to make it (27455, 28, 28, 1)\n",
        "  training_images = np.expand_dims(training_Images, axis=3)\n",
        "  validation_images = np.expand_dims(validation_Images, axis=3)\n",
        "\n",
        "  # Instantiate the ImageDataGenerator class and also we need to normalize pixel values and set arguments to augment the images (if desired)\n",
        "  # To avoid model from overfitting, we will augment the images\n",
        "  train_datagenerator = ImageDataGenerator(rescale=1/255,\n",
        "                                     rotation_range=45,\n",
        "                                     height_shift_range=0.2,\n",
        "                                     width_shift_range=0.2,\n",
        "                                     shear_range=0.2,\n",
        "                                     zoom_range=0.4,\n",
        "                                     horizontal_flip=True)\n",
        "  train_generator = train_datagenerator.flow(x=training_images,\n",
        "                                       y=training_Labels,\n",
        "                                       batch_size=32) \n",
        "\n",
        "  validation_datagenerator = ImageDataGenerator(rescale=1/255)\n",
        "  validation_generator = validation_datagenerator.flow(x=validation_images,\n",
        "                                                 y=validation_Labels,\n",
        "                                                 batch_size=32) \n",
        "\n",
        "  return train_generator, validation_generator"
      ],
      "metadata": {
        "id": "GNLdsXKTYxPF"
      },
      "execution_count": null,
      "outputs": []
    },
    {
      "cell_type": "code",
      "source": [
        "train_generator, validation_generator = train_vald_generators(training_Images, training_Labels, validation_Images, validation_Labels)\n",
        "\n",
        "print(f\"Shape of training generator images: {train_generator.x.shape}\")\n",
        "print(f\"Shape of training generator labels: {train_generator.y.shape}\")\n",
        "print(f\"Shape of validation generator have shape: {validation_generator.x.shape}\")\n",
        "print(f\"Shape of validation generator have shape: {validation_generator.y.shape}\")"
      ],
      "metadata": {
        "colab": {
          "base_uri": "https://localhost:8080/"
        },
        "id": "ZXawL3fDY0XV",
        "outputId": "6ef9ef5e-c063-4b9e-a274-188b853ef69d"
      },
      "execution_count": null,
      "outputs": [
        {
          "output_type": "stream",
          "name": "stdout",
          "text": [
            "Shape of training generator images: (27455, 28, 28, 1)\n",
            "Shape of training generator labels: (27455,)\n",
            "Shape of validation generator have shape: (7172, 28, 28, 1)\n",
            "Shape of validation generator have shape: (7172,)\n"
          ]
        }
      ]
    },
    {
      "cell_type": "code",
      "source": [
        "#Building the CNN\n",
        "def create_model():\n",
        "    \n",
        "    model = tf.keras.models.Sequential([\n",
        "                                        \n",
        "    tf.keras.layers.Conv2D(32, (3,3), activation='relu', input_shape=(28, 28, 1)),\n",
        "    tf.keras.layers.MaxPooling2D(2,2),\n",
        "    tf.keras.layers.Conv2D(32, (3,3), activation='relu'),\n",
        "    tf.keras.layers.BatchNormalization(),\n",
        "    tf.keras.layers.MaxPooling2D(2,2),\n",
        "    \n",
        "    tf.keras.layers.Flatten(),\n",
        "    tf.keras.layers.Dense(512, activation='relu'),\n",
        "    tf.keras.layers.Dense(26, activation='softmax')])\n",
        "\n",
        "    model.compile(\n",
        "    optimizer='adam',\n",
        "    loss='sparse_categorical_crossentropy',\n",
        "    metrics=['accuracy'])\n",
        "   \n",
        "  \n",
        "    return model\n",
        "    model.summary()"
      ],
      "metadata": {
        "id": "C2ABd3BgY7_d"
      },
      "execution_count": null,
      "outputs": []
    },
    {
      "cell_type": "code",
      "source": [
        "# Saving our model\n",
        "model = create_model()"
      ],
      "metadata": {
        "id": "zP4dwYTWZZwv"
      },
      "execution_count": null,
      "outputs": []
    },
    {
      "cell_type": "code",
      "source": [
        "# Train our model\n",
        "history = model.fit(train_generator,\n",
        "                    epochs=20,\n",
        "                    validation_data=validation_generator,  \n",
        "                    callbacks = [learningRateReduction])"
      ],
      "metadata": {
        "colab": {
          "base_uri": "https://localhost:8080/"
        },
        "id": "M0IUAsivZeyi",
        "outputId": "dcd004ec-b5df-41d8-8c7f-7be2e3f4036d"
      },
      "execution_count": null,
      "outputs": [
        {
          "output_type": "stream",
          "name": "stdout",
          "text": [
            "Epoch 1/20\n",
            "858/858 [==============================] - 22s 15ms/step - loss: 2.3943 - accuracy: 0.2672 - val_loss: 1.6252 - val_accuracy: 0.4720 - lr: 0.0010\n",
            "Epoch 2/20\n",
            "858/858 [==============================] - 13s 15ms/step - loss: 1.6182 - accuracy: 0.4821 - val_loss: 1.7121 - val_accuracy: 0.4948 - lr: 0.0010\n",
            "Epoch 3/20\n",
            "858/858 [==============================] - 13s 15ms/step - loss: 1.2758 - accuracy: 0.5859 - val_loss: 0.9765 - val_accuracy: 0.6562 - lr: 0.0010\n",
            "Epoch 4/20\n",
            "858/858 [==============================] - 15s 17ms/step - loss: 1.0768 - accuracy: 0.6487 - val_loss: 0.7772 - val_accuracy: 0.7365 - lr: 0.0010\n",
            "Epoch 5/20\n",
            "858/858 [==============================] - 13s 15ms/step - loss: 0.9556 - accuracy: 0.6864 - val_loss: 0.6471 - val_accuracy: 0.7920 - lr: 0.0010\n",
            "Epoch 6/20\n",
            "858/858 [==============================] - 13s 16ms/step - loss: 0.8680 - accuracy: 0.7112 - val_loss: 0.5789 - val_accuracy: 0.7828 - lr: 0.0010\n",
            "Epoch 7/20\n",
            "858/858 [==============================] - 13s 16ms/step - loss: 0.8055 - accuracy: 0.7358 - val_loss: 0.8725 - val_accuracy: 0.7036 - lr: 0.0010\n",
            "Epoch 8/20\n",
            "858/858 [==============================] - 13s 16ms/step - loss: 0.7639 - accuracy: 0.7467 - val_loss: 0.7773 - val_accuracy: 0.7427 - lr: 0.0010\n",
            "Epoch 9/20\n",
            "858/858 [==============================] - 13s 16ms/step - loss: 0.7184 - accuracy: 0.7603 - val_loss: 0.6595 - val_accuracy: 0.7968 - lr: 0.0010\n",
            "Epoch 10/20\n",
            "858/858 [==============================] - 13s 16ms/step - loss: 0.6907 - accuracy: 0.7697 - val_loss: 0.5474 - val_accuracy: 0.8166 - lr: 0.0010\n",
            "Epoch 11/20\n",
            "858/858 [==============================] - 14s 16ms/step - loss: 0.6607 - accuracy: 0.7798 - val_loss: 0.4603 - val_accuracy: 0.8398 - lr: 0.0010\n",
            "Epoch 12/20\n",
            "858/858 [==============================] - 14s 16ms/step - loss: 0.6414 - accuracy: 0.7921 - val_loss: 0.7578 - val_accuracy: 0.7810 - lr: 0.0010\n",
            "Epoch 13/20\n",
            "858/858 [==============================] - 14s 16ms/step - loss: 0.6077 - accuracy: 0.7971 - val_loss: 0.4529 - val_accuracy: 0.8261 - lr: 0.0010\n",
            "Epoch 14/20\n",
            "858/858 [==============================] - 13s 16ms/step - loss: 0.6002 - accuracy: 0.8027 - val_loss: 0.7518 - val_accuracy: 0.7670 - lr: 0.0010\n",
            "Epoch 15/20\n",
            "858/858 [==============================] - 14s 16ms/step - loss: 0.5684 - accuracy: 0.8112 - val_loss: 0.4074 - val_accuracy: 0.8641 - lr: 0.0010\n",
            "Epoch 16/20\n",
            "858/858 [==============================] - 14s 16ms/step - loss: 0.5544 - accuracy: 0.8160 - val_loss: 0.4830 - val_accuracy: 0.8443 - lr: 0.0010\n",
            "Epoch 17/20\n",
            "858/858 [==============================] - 14s 16ms/step - loss: 0.5502 - accuracy: 0.8163 - val_loss: 0.3010 - val_accuracy: 0.8816 - lr: 0.0010\n",
            "Epoch 18/20\n",
            "858/858 [==============================] - 14s 16ms/step - loss: 0.5388 - accuracy: 0.8193 - val_loss: 0.5982 - val_accuracy: 0.8256 - lr: 0.0010\n",
            "Epoch 19/20\n",
            "858/858 [==============================] - 14s 16ms/step - loss: 0.5193 - accuracy: 0.8271 - val_loss: 0.3639 - val_accuracy: 0.8629 - lr: 0.0010\n",
            "Epoch 20/20\n",
            "858/858 [==============================] - 13s 15ms/step - loss: 0.5043 - accuracy: 0.8325 - val_loss: 0.7291 - val_accuracy: 0.7832 - lr: 0.0010\n"
          ]
        }
      ]
    },
    {
      "cell_type": "code",
      "source": [
        "# Plot the chart for accuracy and loss on both training and validation\n",
        "plt.style.use(\"seaborn\")\n",
        "\n",
        "acc = history.history['accuracy']\n",
        "val_acc = history.history['val_accuracy']\n",
        "loss = history.history['loss']\n",
        "val_loss = history.history['val_loss']\n",
        "\n",
        "epochs = range(len(acc))\n",
        "\n",
        "plt.figure()\n",
        "plt.title('Training and validation accuracy')\n",
        "sns.lineplot(epochs, acc, label=\"Training accuracy\", marker=\"o\")\n",
        "sns.lineplot(epochs, val_acc, label=\"Validation accuracy\", marker=\"o\")\n",
        "plt.show()\n",
        "\n",
        "plt.figure()\n",
        "plt.title(\"Training and validation loss\")\n",
        "sns.lineplot(epochs, loss, label=\"Training Loss\", marker=\"o\")\n",
        "sns.lineplot(epochs, val_loss, label=\"Validation Loss\", marker=\"o\")\n",
        "plt.show()\n"
      ],
      "metadata": {
        "colab": {
          "base_uri": "https://localhost:8080/",
          "height": 1000
        },
        "id": "IVznCZSXl-3e",
        "outputId": "899d1099-4967-4978-b99a-952f225c4dc2"
      },
      "execution_count": null,
      "outputs": [
        {
          "output_type": "stream",
          "name": "stderr",
          "text": [
            "/usr/local/lib/python3.7/dist-packages/seaborn/_decorators.py:43: FutureWarning:\n",
            "\n",
            "Pass the following variables as keyword args: x, y. From version 0.12, the only valid positional argument will be `data`, and passing other arguments without an explicit keyword will result in an error or misinterpretation.\n",
            "\n",
            "/usr/local/lib/python3.7/dist-packages/seaborn/_decorators.py:43: FutureWarning:\n",
            "\n",
            "Pass the following variables as keyword args: x, y. From version 0.12, the only valid positional argument will be `data`, and passing other arguments without an explicit keyword will result in an error or misinterpretation.\n",
            "\n"
          ]
        },
        {
          "output_type": "display_data",
          "data": {
            "text/plain": [
              "<Figure size 576x396 with 1 Axes>"
            ],
            "image/png": "[encoded data removed]"
          },
          "metadata": {}
        },
        {
          "output_type": "stream",
          "name": "stderr",
          "text": [
            "/usr/local/lib/python3.7/dist-packages/seaborn/_decorators.py:43: FutureWarning:\n",
            "\n",
            "Pass the following variables as keyword args: x, y. From version 0.12, the only valid positional argument will be `data`, and passing other arguments without an explicit keyword will result in an error or misinterpretation.\n",
            "\n",
            "/usr/local/lib/python3.7/dist-packages/seaborn/_decorators.py:43: FutureWarning:\n",
            "\n",
            "Pass the following variables as keyword args: x, y. From version 0.12, the only valid positional argument will be `data`, and passing other arguments without an explicit keyword will result in an error or misinterpretation.\n",
            "\n"
          ]
        },
        {
          "output_type": "display_data",
          "data": {
            "text/plain": [
              "<Figure size 576x396 with 1 Axes>"
            ],
            "image/png": "[encoded data removed]"
          },
          "metadata": {}
        }
      ]
    },
    {
      "cell_type": "code",
      "source": [
        "#Model2\n",
        "def create_model2():  \n",
        "    \n",
        "  model2 = tf.keras.models.Sequential([tf.keras.layers.Conv2D(32, (3,3), activation='relu', input_shape=(28, 28, 1)),\n",
        "                                     tf.keras.layers.MaxPooling2D(2,2),\n",
        "                                     tf.keras.layers.Conv2D(64, (3,3), activation='relu'),\n",
        "                                     tf.keras.layers.MaxPooling2D(2,2),\n",
        "                                     tf.keras.layers.Flatten(),\n",
        "                                     tf.keras.layers.Dense(1024, activation='relu'),\n",
        "                                     tf.keras.layers.Dense(26, activation='softmax')\n",
        "                                     ])\n",
        "  \n",
        "\n",
        "  model2.compile(optimizer = 'rmsprop',\n",
        "                loss = 'sparse_categorical_crossentropy',\n",
        "                metrics=['accuracy'])\n",
        "\n",
        "  return model2"
      ],
      "metadata": {
        "id": "fi3cbFXDOI7F"
      },
      "execution_count": null,
      "outputs": []
    },
    {
      "cell_type": "code",
      "source": [
        "model2 = create_model2()\n",
        "\n",
        "# Train our model\n",
        "history1 = model2.fit(train_generator,\n",
        "                    epochs=25,\n",
        "                    validation_data=validation_generator,  \n",
        "                    callbacks = [learningRateReduction])\n"
      ],
      "metadata": {
        "colab": {
          "base_uri": "https://localhost:8080/"
        },
        "id": "mbUB3evlOjPa",
        "outputId": "953cebce-374b-457d-9a4b-9bc08a9f2168"
      },
      "execution_count": null,
      "outputs": [
        {
          "output_type": "stream",
          "name": "stdout",
          "text": [
            "Epoch 1/25\n",
            "858/858 [==============================] - 14s 15ms/step - loss: 2.6684 - accuracy: 0.1883 - val_loss: 1.7504 - val_accuracy: 0.4039 - lr: 0.0010\n",
            "Epoch 2/25\n",
            "858/858 [==============================] - 13s 16ms/step - loss: 1.9027 - accuracy: 0.3992 - val_loss: 1.1153 - val_accuracy: 0.6014 - lr: 0.0010\n",
            "Epoch 3/25\n",
            "858/858 [==============================] - 13s 15ms/step - loss: 1.4472 - accuracy: 0.5328 - val_loss: 0.6685 - val_accuracy: 0.7914 - lr: 0.0010\n",
            "Epoch 4/25\n",
            "858/858 [==============================] - 13s 16ms/step - loss: 1.1835 - accuracy: 0.6092 - val_loss: 0.4664 - val_accuracy: 0.8332 - lr: 0.0010\n",
            "Epoch 5/25\n",
            "858/858 [==============================] - 12s 14ms/step - loss: 1.0223 - accuracy: 0.6678 - val_loss: 0.6067 - val_accuracy: 0.7758 - lr: 0.0010\n",
            "Epoch 6/25\n",
            "858/858 [==============================] - 12s 14ms/step - loss: 0.9100 - accuracy: 0.6991 - val_loss: 0.3493 - val_accuracy: 0.8839 - lr: 0.0010\n",
            "Epoch 7/25\n",
            "858/858 [==============================] - 12s 14ms/step - loss: 0.8105 - accuracy: 0.7335 - val_loss: 0.3115 - val_accuracy: 0.8855 - lr: 0.0010\n",
            "Epoch 8/25\n",
            "858/858 [==============================] - 12s 14ms/step - loss: 0.7419 - accuracy: 0.7595 - val_loss: 0.2961 - val_accuracy: 0.8939 - lr: 0.0010\n",
            "Epoch 9/25\n",
            "858/858 [==============================] - 12s 14ms/step - loss: 0.6985 - accuracy: 0.7722 - val_loss: 0.3776 - val_accuracy: 0.8507 - lr: 0.0010\n",
            "Epoch 10/25\n",
            "858/858 [==============================] - 12s 13ms/step - loss: 0.6614 - accuracy: 0.7811 - val_loss: 0.2281 - val_accuracy: 0.9168 - lr: 0.0010\n",
            "Epoch 11/25\n",
            "858/858 [==============================] - 12s 14ms/step - loss: 0.6359 - accuracy: 0.7945 - val_loss: 0.3296 - val_accuracy: 0.8793 - lr: 0.0010\n",
            "Epoch 12/25\n",
            "858/858 [==============================] - 12s 14ms/step - loss: 0.6183 - accuracy: 0.7992 - val_loss: 0.2024 - val_accuracy: 0.9373 - lr: 0.0010\n",
            "Epoch 13/25\n",
            "858/858 [==============================] - 12s 14ms/step - loss: 0.5895 - accuracy: 0.8091 - val_loss: 0.1599 - val_accuracy: 0.9494 - lr: 0.0010\n",
            "Epoch 14/25\n",
            "858/858 [==============================] - 12s 15ms/step - loss: 0.5849 - accuracy: 0.8123 - val_loss: 0.3428 - val_accuracy: 0.8894 - lr: 0.0010\n",
            "Epoch 15/25\n",
            "858/858 [==============================] - 12s 14ms/step - loss: 0.5657 - accuracy: 0.8206 - val_loss: 0.2010 - val_accuracy: 0.9308 - lr: 0.0010\n",
            "Epoch 16/25\n",
            "858/858 [==============================] - 12s 14ms/step - loss: 0.5643 - accuracy: 0.8185 - val_loss: 0.1898 - val_accuracy: 0.9303 - lr: 0.0010\n",
            "Epoch 17/25\n",
            "858/858 [==============================] - 12s 14ms/step - loss: 0.5565 - accuracy: 0.8268 - val_loss: 0.2230 - val_accuracy: 0.9244 - lr: 0.0010\n",
            "Epoch 18/25\n",
            "858/858 [==============================] - 12s 14ms/step - loss: 0.5353 - accuracy: 0.8316 - val_loss: 0.2746 - val_accuracy: 0.9169 - lr: 0.0010\n",
            "Epoch 19/25\n",
            "858/858 [==============================] - 12s 14ms/step - loss: 0.5339 - accuracy: 0.8349 - val_loss: 0.3145 - val_accuracy: 0.9101 - lr: 0.0010\n",
            "Epoch 20/25\n",
            "858/858 [==============================] - 12s 14ms/step - loss: 0.5323 - accuracy: 0.8309 - val_loss: 0.2904 - val_accuracy: 0.9183 - lr: 0.0010\n",
            "Epoch 21/25\n",
            "858/858 [==============================] - ETA: 0s - loss: 0.5346 - accuracy: 0.8309\n",
            "Epoch 21: ReduceLROnPlateau reducing learning rate to 0.0007500000356230885.\n",
            "858/858 [==============================] - 12s 14ms/step - loss: 0.5346 - accuracy: 0.8309 - val_loss: 0.1874 - val_accuracy: 0.9402 - lr: 0.0010\n",
            "Epoch 22/25\n",
            "858/858 [==============================] - 12s 14ms/step - loss: 0.4568 - accuracy: 0.8551 - val_loss: 0.1590 - val_accuracy: 0.9410 - lr: 7.5000e-04\n",
            "Epoch 23/25\n",
            "858/858 [==============================] - 12s 14ms/step - loss: 0.4435 - accuracy: 0.8586 - val_loss: 0.2592 - val_accuracy: 0.9321 - lr: 7.5000e-04\n",
            "Epoch 24/25\n",
            "858/858 [==============================] - 12s 13ms/step - loss: 0.4417 - accuracy: 0.8610 - val_loss: 0.1627 - val_accuracy: 0.9530 - lr: 7.5000e-04\n",
            "Epoch 25/25\n",
            "857/858 [============================>.] - ETA: 0s - loss: 0.4580 - accuracy: 0.8579\n",
            "Epoch 25: ReduceLROnPlateau reducing learning rate to 0.0005625000048894435.\n",
            "858/858 [==============================] - 12s 14ms/step - loss: 0.4579 - accuracy: 0.8578 - val_loss: 0.2707 - val_accuracy: 0.9340 - lr: 7.5000e-04\n"
          ]
        }
      ]
    },
    {
      "cell_type": "code",
      "source": [
        "# Plot the chart for accuracy and loss on both training and validation\n",
        "plt.style.use(\"seaborn\")\n",
        "\n",
        "acc = history1.history['accuracy']\n",
        "val_acc = history1.history['val_accuracy']\n",
        "loss = history1.history['loss']\n",
        "val_loss = history1.history['val_loss']\n",
        "\n",
        "epochs = range(len(acc))\n",
        "\n",
        "plt.figure()\n",
        "plt.title('Training and validation accuracy')\n",
        "sns.lineplot(epochs, acc, label=\"Training accuracy\", marker=\"o\")\n",
        "sns.lineplot(epochs, val_acc, label=\"Validation accuracy\", marker=\"o\")\n",
        "plt.show()\n",
        "\n",
        "plt.figure()\n",
        "plt.title(\"Training and validation loss\")\n",
        "sns.lineplot(epochs, loss, label=\"Training Loss\", marker=\"o\")\n",
        "sns.lineplot(epochs, val_loss, label=\"Validation Loss\", marker=\"o\")\n",
        "plt.show()"
      ],
      "metadata": {
        "colab": {
          "base_uri": "https://localhost:8080/",
          "height": 1000
        },
        "id": "JJDQseXZOnvb",
        "outputId": "5a093016-b3f6-4b57-9a73-cb698cffcb0d"
      },
      "execution_count": null,
      "outputs": [
        {
          "output_type": "stream",
          "name": "stderr",
          "text": [
            "/usr/local/lib/python3.7/dist-packages/seaborn/_decorators.py:43: FutureWarning:\n",
            "\n",
            "Pass the following variables as keyword args: x, y. From version 0.12, the only valid positional argument will be `data`, and passing other arguments without an explicit keyword will result in an error or misinterpretation.\n",
            "\n",
            "/usr/local/lib/python3.7/dist-packages/seaborn/_decorators.py:43: FutureWarning:\n",
            "\n",
            "Pass the following variables as keyword args: x, y. From version 0.12, the only valid positional argument will be `data`, and passing other arguments without an explicit keyword will result in an error or misinterpretation.\n",
            "\n"
          ]
        },
        {
          "output_type": "display_data",
          "data": {
            "text/plain": [
              "<Figure size 576x396 with 1 Axes>"
            ],
            "image/png": "[encoded data removed]"
          },
          "metadata": {}
        },
        {
          "output_type": "stream",
          "name": "stderr",
          "text": [
            "/usr/local/lib/python3.7/dist-packages/seaborn/_decorators.py:43: FutureWarning:\n",
            "\n",
            "Pass the following variables as keyword args: x, y. From version 0.12, the only valid positional argument will be `data`, and passing other arguments without an explicit keyword will result in an error or misinterpretation.\n",
            "\n",
            "/usr/local/lib/python3.7/dist-packages/seaborn/_decorators.py:43: FutureWarning:\n",
            "\n",
            "Pass the following variables as keyword args: x, y. From version 0.12, the only valid positional argument will be `data`, and passing other arguments without an explicit keyword will result in an error or misinterpretation.\n",
            "\n"
          ]
        },
        {
          "output_type": "display_data",
          "data": {
            "text/plain": [
              "<Figure size 576x396 with 1 Axes>"
            ],
            "image/png": "[encoded data removed]"
          },
          "metadata": {}
        }
      ]
    },
    {
      "cell_type": "code",
      "source": [
        "#Model3\n",
        "def create_model3():  \n",
        "    \n",
        "  model3 = tf.keras.models.Sequential([tf.keras.layers.Conv2D(32, (3,3), activation='relu', input_shape=(28, 28, 1)),\n",
        "                                     tf.keras.layers.MaxPooling2D(2,2),\n",
        "                                     tf.keras.layers.Conv2D(64, (3,3), activation='relu'),\n",
        "                                     tf.keras.layers.MaxPooling2D(2,2),\n",
        "                                     tf.keras.layers.Conv2D(128, (3,3), activation='relu'),\n",
        "                                     tf.keras.layers.MaxPooling2D(2,2),\n",
        "                                     tf.keras.layers.Flatten(),\n",
        "                                     tf.keras.layers.Dense(4096, activation='relu'),\n",
        "                                     tf.keras.layers.Dense(26, activation='softmax')\n",
        "                                     ])\n",
        "  \n",
        "\n",
        "  model3.compile(optimizer = 'rmsprop',\n",
        "                loss = 'sparse_categorical_crossentropy',\n",
        "                metrics=['accuracy'])\n",
        "\n",
        "  return model3"
      ],
      "metadata": {
        "id": "elNFtT-XPf6i"
      },
      "execution_count": null,
      "outputs": []
    },
    {
      "cell_type": "code",
      "source": [
        "model3 = create_model3()\n",
        "\n",
        "# Train our model\n",
        "history3 = model3.fit(train_generator,\n",
        "                    epochs=50,\n",
        "                    validation_data=validation_generator,  \n",
        "                    callbacks = [learningRateReduction])"
      ],
      "metadata": {
        "colab": {
          "base_uri": "https://localhost:8080/"
        },
        "id": "5W9dGwHXPuCZ",
        "outputId": "55f4460e-d14e-46cd-d5b8-87cbc644f3fe"
      },
      "execution_count": null,
      "outputs": [
        {
          "output_type": "stream",
          "name": "stdout",
          "text": [
            "Epoch 1/50\n",
            "858/858 [==============================] - 13s 14ms/step - loss: 2.7906 - accuracy: 0.1456 - val_loss: 1.9820 - val_accuracy: 0.3101 - lr: 0.0010\n",
            "Epoch 2/50\n",
            "858/858 [==============================] - 12s 14ms/step - loss: 2.0786 - accuracy: 0.3366 - val_loss: 1.3795 - val_accuracy: 0.4941 - lr: 0.0010\n",
            "Epoch 3/50\n",
            "858/858 [==============================] - 12s 14ms/step - loss: 1.6402 - accuracy: 0.4641 - val_loss: 1.0325 - val_accuracy: 0.6555 - lr: 0.0010\n",
            "Epoch 4/50\n",
            "858/858 [==============================] - 12s 14ms/step - loss: 1.3846 - accuracy: 0.5426 - val_loss: 0.7389 - val_accuracy: 0.7305 - lr: 0.0010\n",
            "Epoch 5/50\n",
            "858/858 [==============================] - 12s 14ms/step - loss: 1.2259 - accuracy: 0.5933 - val_loss: 0.5890 - val_accuracy: 0.8017 - lr: 0.0010\n",
            "Epoch 6/50\n",
            "858/858 [==============================] - 12s 14ms/step - loss: 1.0982 - accuracy: 0.6375 - val_loss: 0.5296 - val_accuracy: 0.8069 - lr: 0.0010\n",
            "Epoch 7/50\n",
            "858/858 [==============================] - 12s 14ms/step - loss: 1.0213 - accuracy: 0.6592 - val_loss: 0.5166 - val_accuracy: 0.8187 - lr: 0.0010\n",
            "Epoch 8/50\n",
            "858/858 [==============================] - 17s 20ms/step - loss: 0.9723 - accuracy: 0.6788 - val_loss: 0.4708 - val_accuracy: 0.8373 - lr: 0.0010\n",
            "Epoch 9/50\n",
            "858/858 [==============================] - 12s 14ms/step - loss: 0.9332 - accuracy: 0.6923 - val_loss: 0.4386 - val_accuracy: 0.8514 - lr: 0.0010\n",
            "Epoch 10/50\n",
            "858/858 [==============================] - 12s 14ms/step - loss: 0.9048 - accuracy: 0.7050 - val_loss: 0.4148 - val_accuracy: 0.8346 - lr: 0.0010\n",
            "Epoch 11/50\n",
            "858/858 [==============================] - 12s 14ms/step - loss: 0.8842 - accuracy: 0.7143 - val_loss: 0.4041 - val_accuracy: 0.8629 - lr: 0.0010\n",
            "Epoch 12/50\n",
            "858/858 [==============================] - 12s 14ms/step - loss: 0.8661 - accuracy: 0.7162 - val_loss: 0.4483 - val_accuracy: 0.8263 - lr: 0.0010\n",
            "Epoch 13/50\n",
            "858/858 [==============================] - 12s 14ms/step - loss: 0.8539 - accuracy: 0.7271 - val_loss: 0.4270 - val_accuracy: 0.8511 - lr: 0.0010\n",
            "Epoch 14/50\n",
            "858/858 [==============================] - 12s 14ms/step - loss: 0.8505 - accuracy: 0.7256 - val_loss: 0.5669 - val_accuracy: 0.7963 - lr: 0.0010\n",
            "Epoch 15/50\n",
            "858/858 [==============================] - 12s 14ms/step - loss: 0.8464 - accuracy: 0.7274 - val_loss: 0.3209 - val_accuracy: 0.8872 - lr: 0.0010\n",
            "Epoch 16/50\n",
            "858/858 [==============================] - 12s 14ms/step - loss: 0.8446 - accuracy: 0.7284 - val_loss: 0.2916 - val_accuracy: 0.8836 - lr: 0.0010\n",
            "Epoch 17/50\n",
            "858/858 [==============================] - 12s 14ms/step - loss: 0.8292 - accuracy: 0.7349 - val_loss: 0.4065 - val_accuracy: 0.8578 - lr: 0.0010\n",
            "Epoch 18/50\n",
            "856/858 [============================>.] - ETA: 0s - loss: 0.8331 - accuracy: 0.7363\n",
            "Epoch 18: ReduceLROnPlateau reducing learning rate to 0.0007500000356230885.\n",
            "858/858 [==============================] - 12s 14ms/step - loss: 0.8337 - accuracy: 0.7362 - val_loss: 0.3523 - val_accuracy: 0.8702 - lr: 0.0010\n",
            "Epoch 19/50\n",
            "858/858 [==============================] - 12s 13ms/step - loss: 0.7386 - accuracy: 0.7625 - val_loss: 0.2679 - val_accuracy: 0.9091 - lr: 7.5000e-04\n",
            "Epoch 20/50\n",
            "858/858 [==============================] - 12s 14ms/step - loss: 0.7252 - accuracy: 0.7700 - val_loss: 0.2077 - val_accuracy: 0.9264 - lr: 7.5000e-04\n",
            "Epoch 21/50\n",
            "858/858 [==============================] - 12s 14ms/step - loss: 0.7177 - accuracy: 0.7712 - val_loss: 0.4211 - val_accuracy: 0.8536 - lr: 7.5000e-04\n",
            "Epoch 22/50\n",
            "854/858 [============================>.] - ETA: 0s - loss: 0.7247 - accuracy: 0.7691\n",
            "Epoch 22: ReduceLROnPlateau reducing learning rate to 0.0005625000048894435.\n",
            "858/858 [==============================] - 12s 14ms/step - loss: 0.7251 - accuracy: 0.7691 - val_loss: 0.3302 - val_accuracy: 0.8957 - lr: 7.5000e-04\n",
            "Epoch 23/50\n",
            "858/858 [==============================] - 12s 14ms/step - loss: 0.6546 - accuracy: 0.7903 - val_loss: 0.2830 - val_accuracy: 0.9053 - lr: 5.6250e-04\n",
            "Epoch 24/50\n",
            "858/858 [==============================] - 12s 14ms/step - loss: 0.6531 - accuracy: 0.7897 - val_loss: 0.2492 - val_accuracy: 0.9236 - lr: 5.6250e-04\n",
            "Epoch 25/50\n",
            "858/858 [==============================] - 12s 14ms/step - loss: 0.6480 - accuracy: 0.7941 - val_loss: 0.2318 - val_accuracy: 0.9248 - lr: 5.6250e-04\n",
            "Epoch 26/50\n",
            "854/858 [============================>.] - ETA: 0s - loss: 0.6529 - accuracy: 0.7903\n",
            "Epoch 26: ReduceLROnPlateau reducing learning rate to 0.0004218749818392098.\n",
            "858/858 [==============================] - 12s 14ms/step - loss: 0.6530 - accuracy: 0.7901 - val_loss: 0.1773 - val_accuracy: 0.9392 - lr: 5.6250e-04\n",
            "Epoch 27/50\n",
            "858/858 [==============================] - 12s 14ms/step - loss: 0.5835 - accuracy: 0.8102 - val_loss: 0.2018 - val_accuracy: 0.9370 - lr: 4.2187e-04\n",
            "Epoch 28/50\n",
            "858/858 [==============================] - ETA: 0s - loss: 0.5843 - accuracy: 0.8138\n",
            "Epoch 28: ReduceLROnPlateau reducing learning rate to 0.00031640623637940735.\n",
            "858/858 [==============================] - 12s 14ms/step - loss: 0.5843 - accuracy: 0.8138 - val_loss: 0.2780 - val_accuracy: 0.8991 - lr: 4.2187e-04\n",
            "Epoch 29/50\n",
            "858/858 [==============================] - 12s 14ms/step - loss: 0.5335 - accuracy: 0.8283 - val_loss: 0.2464 - val_accuracy: 0.9228 - lr: 3.1641e-04\n",
            "Epoch 30/50\n",
            "857/858 [============================>.] - ETA: 0s - loss: 0.5387 - accuracy: 0.8292\n",
            "Epoch 30: ReduceLROnPlateau reducing learning rate to 0.00023730468819849193.\n",
            "858/858 [==============================] - 12s 14ms/step - loss: 0.5385 - accuracy: 0.8292 - val_loss: 0.1445 - val_accuracy: 0.9470 - lr: 3.1641e-04\n",
            "Epoch 31/50\n",
            "858/858 [==============================] - 12s 14ms/step - loss: 0.4942 - accuracy: 0.8428 - val_loss: 0.1616 - val_accuracy: 0.9470 - lr: 2.3730e-04\n",
            "Epoch 32/50\n",
            "856/858 [============================>.] - ETA: 0s - loss: 0.4954 - accuracy: 0.8401\n",
            "Epoch 32: ReduceLROnPlateau reducing learning rate to 0.00017797851614886895.\n",
            "858/858 [==============================] - 12s 14ms/step - loss: 0.4954 - accuracy: 0.8401 - val_loss: 0.1819 - val_accuracy: 0.9357 - lr: 2.3730e-04\n",
            "Epoch 33/50\n",
            "858/858 [==============================] - 12s 14ms/step - loss: 0.4684 - accuracy: 0.8477 - val_loss: 0.1399 - val_accuracy: 0.9465 - lr: 1.7798e-04\n",
            "Epoch 34/50\n",
            "858/858 [==============================] - 12s 14ms/step - loss: 0.4659 - accuracy: 0.8496 - val_loss: 0.1331 - val_accuracy: 0.9476 - lr: 1.7798e-04\n",
            "Epoch 35/50\n",
            "858/858 [==============================] - 12s 14ms/step - loss: 0.4642 - accuracy: 0.8508 - val_loss: 0.1751 - val_accuracy: 0.9448 - lr: 1.7798e-04\n",
            "Epoch 36/50\n",
            "858/858 [==============================] - 12s 14ms/step - loss: 0.4628 - accuracy: 0.8504 - val_loss: 0.1312 - val_accuracy: 0.9558 - lr: 1.7798e-04\n",
            "Epoch 37/50\n",
            "857/858 [============================>.] - ETA: 0s - loss: 0.4685 - accuracy: 0.8506\n",
            "Epoch 37: ReduceLROnPlateau reducing learning rate to 0.0001334838816546835.\n",
            "858/858 [==============================] - 12s 14ms/step - loss: 0.4687 - accuracy: 0.8504 - val_loss: 0.1590 - val_accuracy: 0.9455 - lr: 1.7798e-04\n",
            "Epoch 38/50\n",
            "858/858 [==============================] - 12s 14ms/step - loss: 0.4474 - accuracy: 0.8551 - val_loss: 0.1174 - val_accuracy: 0.9622 - lr: 1.3348e-04\n",
            "Epoch 39/50\n",
            "858/858 [==============================] - 12s 14ms/step - loss: 0.4334 - accuracy: 0.8586 - val_loss: 0.1556 - val_accuracy: 0.9569 - lr: 1.3348e-04\n",
            "Epoch 40/50\n",
            "854/858 [============================>.] - ETA: 0s - loss: 0.4355 - accuracy: 0.8617\n",
            "Epoch 40: ReduceLROnPlateau reducing learning rate to 0.00010011290578404441.\n",
            "858/858 [==============================] - 12s 14ms/step - loss: 0.4358 - accuracy: 0.8617 - val_loss: 0.1175 - val_accuracy: 0.9603 - lr: 1.3348e-04\n",
            "Epoch 41/50\n",
            "858/858 [==============================] - 12s 14ms/step - loss: 0.4307 - accuracy: 0.8618 - val_loss: 0.1334 - val_accuracy: 0.9552 - lr: 1.0011e-04\n",
            "Epoch 42/50\n",
            "858/858 [==============================] - 12s 14ms/step - loss: 0.4298 - accuracy: 0.8630 - val_loss: 0.1553 - val_accuracy: 0.9473 - lr: 1.0011e-04\n",
            "Epoch 43/50\n",
            "858/858 [==============================] - 12s 14ms/step - loss: 0.4240 - accuracy: 0.8648 - val_loss: 0.1605 - val_accuracy: 0.9428 - lr: 1.0011e-04\n",
            "Epoch 44/50\n",
            "858/858 [==============================] - 12s 14ms/step - loss: 0.4167 - accuracy: 0.8671 - val_loss: 0.1644 - val_accuracy: 0.9484 - lr: 1.0011e-04\n",
            "Epoch 45/50\n",
            "857/858 [============================>.] - ETA: 0s - loss: 0.4225 - accuracy: 0.8652\n",
            "Epoch 45: ReduceLROnPlateau reducing learning rate to 7.508467933803331e-05.\n",
            "858/858 [==============================] - 12s 14ms/step - loss: 0.4223 - accuracy: 0.8652 - val_loss: 0.1411 - val_accuracy: 0.9568 - lr: 1.0011e-04\n",
            "Epoch 46/50\n",
            "858/858 [==============================] - 12s 14ms/step - loss: 0.4048 - accuracy: 0.8715 - val_loss: 0.1346 - val_accuracy: 0.9534 - lr: 7.5085e-05\n",
            "Epoch 47/50\n",
            "855/858 [============================>.] - ETA: 0s - loss: 0.4074 - accuracy: 0.8701\n",
            "Epoch 47: ReduceLROnPlateau reducing learning rate to 5.6313510867767036e-05.\n",
            "858/858 [==============================] - 12s 14ms/step - loss: 0.4074 - accuracy: 0.8699 - val_loss: 0.1333 - val_accuracy: 0.9540 - lr: 7.5085e-05\n",
            "Epoch 48/50\n",
            "858/858 [==============================] - 12s 14ms/step - loss: 0.3945 - accuracy: 0.8729 - val_loss: 0.1616 - val_accuracy: 0.9462 - lr: 5.6314e-05\n",
            "Epoch 49/50\n",
            "855/858 [============================>.] - ETA: 0s - loss: 0.3971 - accuracy: 0.8737\n",
            "Epoch 49: ReduceLROnPlateau reducing learning rate to 4.223513315082528e-05.\n",
            "858/858 [==============================] - 12s 14ms/step - loss: 0.3971 - accuracy: 0.8737 - val_loss: 0.1250 - val_accuracy: 0.9586 - lr: 5.6314e-05\n",
            "Epoch 50/50\n",
            "858/858 [==============================] - 12s 14ms/step - loss: 0.3934 - accuracy: 0.8721 - val_loss: 0.1461 - val_accuracy: 0.9477 - lr: 4.2235e-05\n"
          ]
        }
      ]
    },
    {
      "cell_type": "code",
      "source": [
        "# Plot the chart for accuracy and loss on both training and validation\n",
        "plt.style.use(\"seaborn\")\n",
        "\n",
        "acc = history3.history['accuracy']\n",
        "val_acc = history3.history['val_accuracy']\n",
        "loss = history3.history['loss']\n",
        "val_loss = history3.history['val_loss']\n",
        "\n",
        "epochs = range(len(acc))\n",
        "\n",
        "plt.figure()\n",
        "plt.title('Training and validation accuracy')\n",
        "sns.lineplot(epochs, acc, label=\"Training accuracy\", marker=\"o\")\n",
        "sns.lineplot(epochs, val_acc, label=\"Validation accuracy\", marker=\"o\")\n",
        "plt.show()\n",
        "\n",
        "plt.figure()\n",
        "plt.title(\"Training and validation loss\")\n",
        "sns.lineplot(epochs, loss, label=\"Training Loss\", marker=\"o\")\n",
        "sns.lineplot(epochs, val_loss, label=\"Validation Loss\", marker=\"o\")\n",
        "plt.show()"
      ],
      "metadata": {
        "colab": {
          "base_uri": "https://localhost:8080/",
          "height": 1000
        },
        "id": "SHv6SS5BP0QU",
        "outputId": "0692ae02-3418-40b2-b250-922130bedcab"
      },
      "execution_count": null,
      "outputs": [
        {
          "output_type": "stream",
          "name": "stderr",
          "text": [
            "/usr/local/lib/python3.7/dist-packages/seaborn/_decorators.py:43: FutureWarning:\n",
            "\n",
            "Pass the following variables as keyword args: x, y. From version 0.12, the only valid positional argument will be `data`, and passing other arguments without an explicit keyword will result in an error or misinterpretation.\n",
            "\n",
            "/usr/local/lib/python3.7/dist-packages/seaborn/_decorators.py:43: FutureWarning:\n",
            "\n",
            "Pass the following variables as keyword args: x, y. From version 0.12, the only valid positional argument will be `data`, and passing other arguments without an explicit keyword will result in an error or misinterpretation.\n",
            "\n"
          ]
        },
        {
          "output_type": "display_data",
          "data": {
            "text/plain": [
              "<Figure size 576x396 with 1 Axes>"
            ],
            "image/png": "[encoded data removed]"
          },
          "metadata": {}
        },
        {
          "output_type": "stream",
          "name": "stderr",
          "text": [
            "/usr/local/lib/python3.7/dist-packages/seaborn/_decorators.py:43: FutureWarning:\n",
            "\n",
            "Pass the following variables as keyword args: x, y. From version 0.12, the only valid positional argument will be `data`, and passing other arguments without an explicit keyword will result in an error or misinterpretation.\n",
            "\n",
            "/usr/local/lib/python3.7/dist-packages/seaborn/_decorators.py:43: FutureWarning:\n",
            "\n",
            "Pass the following variables as keyword args: x, y. From version 0.12, the only valid positional argument will be `data`, and passing other arguments without an explicit keyword will result in an error or misinterpretation.\n",
            "\n"
          ]
        },
        {
          "output_type": "display_data",
          "data": {
            "text/plain": [
              "<Figure size 576x396 with 1 Axes>"
            ],
            "image/png": "[encoded data removed]"
          },
          "metadata": {}
        }
      ]
    },
    {
      "cell_type": "markdown",
      "source": [
        "We create our own model from scratch using CNN and get a pretty good result with above 87% accuracy in training and around 94% in testing"
      ],
      "metadata": {
        "id": "DMMSLhHwxpNe"
      }
    },
    {
      "cell_type": "markdown",
      "source": [
        ""
      ],
      "metadata": {
        "id": "gThZH4pZy4d9"
      }
    }
  ]
}